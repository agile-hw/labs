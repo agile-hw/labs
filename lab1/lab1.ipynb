{
 "cells": [
  {
   "cell_type": "markdown",
   "id": "fac37d2c-cc4e-409e-9b75-e787530c608b",
   "metadata": {
    "deletable": false,
    "editable": false,
    "nbgrader": {
     "cell_type": "markdown",
     "checksum": "bf572b127f3e8910bfdc7a55242f088b",
     "grade": false,
     "grade_id": "cell-c2d5066b268e9c4c",
     "locked": true,
     "schema_version": 3,
     "solution": false,
     "task": false
    }
   },
   "source": [
    "Before you turn this lab in, make sure everything runs as expected. First, **restart the kernel** (in the menubar, select Kernel$\\rightarrow$Restart) and then **run all cells** (in the menubar, select Cell$\\rightarrow$Run All).\n",
    "\n",
    "Make sure you fill in any place that says `YOUR CODE HERE` or \"YOUR ANSWER HERE\".\n",
    "\n",
    "**Provide your name and any collaborators below:**"
   ]
  },
  {
   "cell_type": "markdown",
   "id": "92ec1905-1a43-469b-aa19-c0858c157e5c",
   "metadata": {
    "deletable": false,
    "nbgrader": {
     "cell_type": "markdown",
     "checksum": "14d52740faa5ccc0b543add03d8ebf6b",
     "grade": true,
     "grade_id": "name-collabs",
     "locked": false,
     "points": 0,
     "schema_version": 3,
     "solution": true,
     "task": false
    },
    "tags": []
   },
   "source": [
    "YOUR ANSWER HERE"
   ]
  },
  {
   "cell_type": "markdown",
   "id": "equal-helen",
   "metadata": {
    "cell_style": "center",
    "deletable": false,
    "editable": false,
    "nbgrader": {
     "cell_type": "markdown",
     "checksum": "dd64300a1e45d8303c86cfc1336a2fc6",
     "grade": false,
     "grade_id": "header",
     "locked": true,
     "schema_version": 3,
     "solution": false,
     "task": false
    },
    "slideshow": {
     "slide_type": "slide"
    }
   },
   "source": [
    "---\n",
    "# Lab 1 Intro to Scala and Chisel\n",
    "> Labs will be due each week before the homeworks. They are not intended take a significant amount of time but rather to provide examples/practice on specific and isolated features in the language. Labs are autograded so you can get quick feedback.\n",
    "\n",
    "### Import the necessary Chisel dependencies. \n",
    "> There will be cells like these in every lab. Make sure you run them before proceeding to bring the Chisel Library into the Jupyter Notebook scope!"
   ]
  },
  {
   "cell_type": "code",
   "execution_count": null,
   "id": "framed-coffee",
   "metadata": {
    "deletable": false,
    "editable": false,
    "nbgrader": {
     "cell_type": "code",
     "checksum": "a96a927c82031ccee99f4ef9f547bc4e",
     "grade": false,
     "grade_id": "load-chisel",
     "locked": true,
     "schema_version": 3,
     "solution": false,
     "task": false
    }
   },
   "outputs": [],
   "source": [
    "interp.configureCompiler(_.settings.processArguments(List(\"-Wconf:cat=deprecation:s\"), true))\n",
    "interp.load.module(os.Path(s\"${System.getProperty(\"user.dir\")}/resource/chisel_deps.sc\"))"
   ]
  },
  {
   "cell_type": "code",
   "execution_count": null,
   "id": "registered-expression",
   "metadata": {
    "deletable": false,
    "editable": false,
    "nbgrader": {
     "cell_type": "code",
     "checksum": "901d9fdacbe59a9692672c167d68ce88",
     "grade": false,
     "grade_id": "imports",
     "locked": true,
     "schema_version": 3,
     "solution": false,
     "task": false
    }
   },
   "outputs": [],
   "source": [
    "import chisel3._\n",
    "import chisel3.util._\n",
    "import chiseltest._\n",
    "import chiseltest.RawTester.test"
   ]
  },
  {
   "cell_type": "markdown",
   "id": "raised-thong",
   "metadata": {
    "deletable": false,
    "editable": false,
    "nbgrader": {
     "cell_type": "markdown",
     "checksum": "63f0ff47a2a529e36411a5419098b23c",
     "grade": false,
     "grade_id": "conditionals-header",
     "locked": true,
     "schema_version": 3,
     "solution": false,
     "task": false
    }
   },
   "source": [
    "## Problem 1 (2 pts) - Scala conditionals\n",
    "> Practice with Scala's if/else. Return `\"heads\"` if `flip` is `true`, else return `\"tails\"`"
   ]
  },
  {
   "cell_type": "code",
   "execution_count": null,
   "id": "governing-madonna",
   "metadata": {
    "deletable": false,
    "nbgrader": {
     "cell_type": "code",
     "checksum": "7993e440bb620f0243da3ab5e675bf4f",
     "grade": false,
     "grade_id": "ScalaCondPractice",
     "locked": false,
     "schema_version": 3,
     "solution": true,
     "task": false
    }
   },
   "outputs": [],
   "source": [
    "def scalaCondPractice(flip: Boolean): String = {\n",
    "    // YOUR CODE HERE\n",
    "    ???\n",
    "}"
   ]
  },
  {
   "cell_type": "code",
   "execution_count": null,
   "id": "comparable-elevation",
   "metadata": {
    "deletable": false,
    "editable": false,
    "nbgrader": {
     "cell_type": "code",
     "checksum": "bf8fd19f2730b3d1a319fa0beb453760",
     "grade": true,
     "grade_id": "scp-test",
     "locked": true,
     "points": 2,
     "schema_version": 3,
     "solution": false,
     "task": false
    }
   },
   "outputs": [],
   "source": [
    "assert(scalaCondPractice(true) == \"heads\")\n",
    "assert(scalaCondPractice(false) == \"tails\")"
   ]
  },
  {
   "cell_type": "markdown",
   "id": "restricted-feelings",
   "metadata": {
    "deletable": false,
    "editable": false,
    "nbgrader": {
     "cell_type": "markdown",
     "checksum": "d547f48eb9cb8fce5dcf8220722f12fc",
     "grade": false,
     "grade_id": "cell-4310bf1dd699ea36",
     "locked": true,
     "schema_version": 3,
     "solution": false,
     "task": false
    }
   },
   "source": [
    "## Problem 2 (3 pts) - Writing a Chisel Module's IO\n",
    "> Fill in the IO in the module such that it takes two 3-bit `UInt`s as input and returns a 4-bit sum as output (no truncation). "
   ]
  },
  {
   "cell_type": "code",
   "execution_count": null,
   "id": "premier-heath",
   "metadata": {
    "deletable": false,
    "nbgrader": {
     "cell_type": "code",
     "checksum": "cd59f254738f810c7618a878a0c23055",
     "grade": false,
     "grade_id": "addTwo",
     "locked": false,
     "schema_version": 3,
     "solution": true,
     "task": false
    }
   },
   "outputs": [],
   "source": [
    "class AddTwo extends Module {\n",
    "    // val io = ???\n",
    "    // YOUR CODE HERE\n",
    "    ???\n",
    "    \n",
    "    io.out := io.in1 +& io.in2\n",
    "}"
   ]
  },
  {
   "cell_type": "code",
   "execution_count": null,
   "id": "recent-scoop",
   "metadata": {
    "deletable": false,
    "editable": false,
    "nbgrader": {
     "cell_type": "code",
     "checksum": "486b61122e60e25866ac4696ae6ec844",
     "grade": true,
     "grade_id": "testAddTwo",
     "locked": true,
     "points": 3,
     "schema_version": 3,
     "solution": false,
     "task": false
    }
   },
   "outputs": [],
   "source": [
    "def testAddTwo: Boolean = {\n",
    "    test(new AddTwo) { c =>\n",
    "        for (i <- 0 until 8) {\n",
    "            for (j <- 0 until 8) {\n",
    "                c.io.in1.poke(i.U)\n",
    "                c.io.in2.poke(j.U)\n",
    "                c.io.out.expect((i+j).U)\n",
    "            }\n",
    "        }\n",
    "    }\n",
    "    true\n",
    "}\n",
    "\n",
    "assert(testAddTwo)"
   ]
  },
  {
   "cell_type": "markdown",
   "id": "educated-order",
   "metadata": {
    "deletable": false,
    "editable": false,
    "nbgrader": {
     "cell_type": "markdown",
     "checksum": "d48a565a950e4266ec2c63ec78357e40",
     "grade": false,
     "grade_id": "CombLogic-header",
     "locked": true,
     "schema_version": 3,
     "solution": false,
     "task": false
    }
   },
   "source": [
    "## Problem 3 (3 pts) - Combinational Logic\n",
    "> Assign the boolean expression: `(a OR b) AND (NOT c)` to the module's output. "
   ]
  },
  {
   "cell_type": "code",
   "execution_count": null,
   "id": "simplified-scanning",
   "metadata": {
    "deletable": false,
    "nbgrader": {
     "cell_type": "code",
     "checksum": "a27cd34c4cd2b84dfd0e48f11bbb3f79",
     "grade": false,
     "grade_id": "CombLogic",
     "locked": false,
     "schema_version": 3,
     "solution": true,
     "task": false
    }
   },
   "outputs": [],
   "source": [
    "class CombLogic extends Module {\n",
    "    val io = IO(new Bundle {\n",
    "        val a   = Input(Bool())\n",
    "        val b   = Input(Bool())\n",
    "        val c   = Input(Bool())\n",
    "        val out = Output(Bool())\n",
    "    })\n",
    "    \n",
    "    // YOUR CODE HERE\n",
    "    ???\n",
    "    \n",
    "    // We can print state like this everytime `step()` is called in our test\n",
    "    printf(p\"a: ${io.a}, b: ${io.b}, c: ${io.c}, out: ${io.out}\\n\")\n",
    "}"
   ]
  },
  {
   "cell_type": "markdown",
   "id": "burning-terrorism",
   "metadata": {
    "deletable": false,
    "editable": false,
    "nbgrader": {
     "cell_type": "markdown",
     "checksum": "3b6add7366909048df6b08e432938729",
     "grade": false,
     "grade_id": "testCombLogic-header",
     "locked": true,
     "schema_version": 3,
     "solution": false,
     "task": false
    }
   },
   "source": [
    "## Problem 4 (4 pts) - Combinational Logic Test\n",
    "> Write your own test that tests `CombLogic` exhaustively for all input values `a, b, and c`. The module should return `true` if and only if all calls to `dut.io.out.expect(...)` succeed."
   ]
  },
  {
   "cell_type": "code",
   "execution_count": null,
   "id": "pacific-standing",
   "metadata": {
    "deletable": false,
    "nbgrader": {
     "cell_type": "code",
     "checksum": "1fc94d98a277009cd779b8741e55f10d",
     "grade": false,
     "grade_id": "testCombLogic",
     "locked": false,
     "schema_version": 3,
     "solution": true,
     "task": false
    }
   },
   "outputs": [],
   "source": [
    "def testCombLogic: Boolean = {\n",
    "    test(new CombLogic) { dut =>\n",
    "        \n",
    "        // YOUR CODE HERE\n",
    "        ???\n",
    "    }\n",
    "    true\n",
    "}"
   ]
  },
  {
   "cell_type": "code",
   "execution_count": null,
   "id": "severe-collins",
   "metadata": {
    "deletable": false,
    "editable": false,
    "nbgrader": {
     "cell_type": "code",
     "checksum": "9b3abea251458a75ffbd2b0e5a504c3a",
     "grade": true,
     "grade_id": "testCombLogic-test",
     "locked": true,
     "points": 4,
     "schema_version": 3,
     "solution": false,
     "task": false
    }
   },
   "outputs": [],
   "source": [
    "assert(testCombLogic)\n"
   ]
  },
  {
   "cell_type": "markdown",
   "id": "finnish-little",
   "metadata": {
    "deletable": false,
    "editable": false,
    "nbgrader": {
     "cell_type": "markdown",
     "checksum": "bbdc4fd9b18a6b7153e60250acddfc2a",
     "grade": false,
     "grade_id": "scalaCond-header",
     "locked": true,
     "schema_version": 3,
     "solution": false,
     "task": false
    }
   },
   "source": [
    "## Problem 5 (3 pts) - Scala Conditional in Chisel modules\n",
    "> At hardware ellaboration time, we can use Scala conditionals to change which hardware is created within a module. Implement the module such that if the `useAnd` argument is `true`, the generated hardware produces `a && b`, and otherwise produces `a || b`. The generated hardware should contain only `AND` logic or `OR` logic, but not both."
   ]
  },
  {
   "cell_type": "code",
   "execution_count": null,
   "id": "terminal-cleaners",
   "metadata": {
    "deletable": false,
    "nbgrader": {
     "cell_type": "code",
     "checksum": "8f023de2d1c4e162ab0877cbcc420f16",
     "grade": false,
     "grade_id": "AndOrCompileTime",
     "locked": false,
     "schema_version": 3,
     "solution": true,
     "task": false
    }
   },
   "outputs": [],
   "source": [
    "class AndOrGenerationTime(useAnd: Boolean) extends Module {\n",
    "    val io = IO(new Bundle {\n",
    "        val a   = Input(Bool())\n",
    "        val b   = Input(Bool())\n",
    "        val out = Output(Bool())\n",
    "    })\n",
    "    \n",
    "    // YOUR CODE HERE\n",
    "    ???\n",
    "}"
   ]
  },
  {
   "cell_type": "code",
   "execution_count": null,
   "id": "cathedral-indie",
   "metadata": {
    "deletable": false,
    "editable": false,
    "nbgrader": {
     "cell_type": "code",
     "checksum": "bf0a38f7260f4946ff5fad4cf8b14104",
     "grade": true,
     "grade_id": "testAndOrCompileTime",
     "locked": true,
     "points": 3,
     "schema_version": 3,
     "solution": false,
     "task": false
    }
   },
   "outputs": [],
   "source": [
    "def testAndOrGenerationTime(useAnd: Boolean): Boolean = {\n",
    "    test(new AndOrGenerationTime(useAnd)) { dut =>\n",
    "        for (a <- Seq(true, false)) {\n",
    "            for (b <- Seq(true, false)) {\n",
    "                dut.io.a.poke(a.B)\n",
    "                dut.io.b.poke(b.B)\n",
    "                if (useAnd) dut.io.out.expect((a && b).B)\n",
    "                else        dut.io.out.expect((a || b).B)\n",
    "            }\n",
    "        }\n",
    "    }\n",
    "    true\n",
    "}\n",
    "assert(testAndOrGenerationTime(useAnd = true))\n",
    "assert(testAndOrGenerationTime(useAnd = false))"
   ]
  },
  {
   "cell_type": "markdown",
   "id": "induced-brazilian",
   "metadata": {
    "deletable": false,
    "editable": false,
    "nbgrader": {
     "cell_type": "markdown",
     "checksum": "3f43fb18851d0528e9576cfb7d05ed25",
     "grade": false,
     "grade_id": "ChiselCond-header",
     "locked": true,
     "schema_version": 3,
     "solution": false,
     "task": false
    }
   },
   "source": [
    "## Problem 6 (3 pts) - Chisel Conditional in Chisel modules\n",
    "> Generated hardware can use conditionals (i.e `Mux` or `when/elsewhen/otherwise`) to select signals. In this exercise, `useAnd` is an `Input` to the module. If `useAnd` is `true`, then the output `out` should be `a && b`, otherwise `a || b`. In this problem, both the logic for `a && b` and `a || b` hardware should be generated. You may use either a Chisel `Mux` or the Chisel `when` statement."
   ]
  },
  {
   "cell_type": "code",
   "execution_count": null,
   "id": "legislative-barrier",
   "metadata": {
    "deletable": false,
    "nbgrader": {
     "cell_type": "code",
     "checksum": "ee80d14ac4ab33e27bfc94afeac4a973",
     "grade": false,
     "grade_id": "AndOrRunTime",
     "locked": false,
     "schema_version": 3,
     "solution": true,
     "task": false
    }
   },
   "outputs": [],
   "source": [
    "class AndOrRunTime extends Module {\n",
    "    val io = IO(new Bundle {\n",
    "        val a      = Input(Bool())\n",
    "        val b      = Input(Bool())\n",
    "        val useAnd = Input(Bool())\n",
    "        val out    = Output(Bool())\n",
    "    })\n",
    "    \n",
    "    // YOUR CODE HERE\n",
    "    ???\n",
    "}"
   ]
  },
  {
   "cell_type": "code",
   "execution_count": null,
   "id": "false-transaction",
   "metadata": {
    "deletable": false,
    "editable": false,
    "nbgrader": {
     "cell_type": "code",
     "checksum": "17b688d068b75fdf74bba55d29f4e79c",
     "grade": true,
     "grade_id": "testAndOrRunTime",
     "locked": true,
     "points": 3,
     "schema_version": 3,
     "solution": false,
     "task": false
    }
   },
   "outputs": [],
   "source": [
    "def testAndOrRunTime: Boolean = {\n",
    "    test(new AndOrRunTime) { dut =>\n",
    "        for (a <- Seq(true, false)) {\n",
    "            for (b <- Seq(true, false)) {\n",
    "                for (useAnd <- Seq(true, false)) {\n",
    "                    dut.io.a.poke(a.B)\n",
    "                    dut.io.b.poke(b.B)\n",
    "                    dut.io.useAnd.poke(useAnd.B)\n",
    "                    if (useAnd) dut.io.out.expect((a && b).B)\n",
    "                    else        dut.io.out.expect((a || b).B)\n",
    "                }\n",
    "            }\n",
    "        }\n",
    "    }\n",
    "    true\n",
    "}\n",
    "assert(testAndOrRunTime)"
   ]
  },
  {
   "cell_type": "markdown",
   "id": "infrared-engineering",
   "metadata": {
    "deletable": false,
    "editable": false,
    "nbgrader": {
     "cell_type": "markdown",
     "checksum": "4d91bc409f7ecb689fd86f25215fd88b",
     "grade": false,
     "grade_id": "lastConnect-header",
     "locked": true,
     "schema_version": 3,
     "solution": false,
     "task": false
    }
   },
   "source": [
    "## Problem 7 (2 pts) - Last connect semantics\n",
    "> When connecting Chisel components, the last connection made is the one that \"wins\" (exists in the generated hardware). In the module below, the default output is `5.U` because `out` is connected to `5.U` after `4.U`. Use a `when` statement to conditionally connect `8.U` to the output when the input `update` is set high, or keep the default connection when `update` is set low."
   ]
  },
  {
   "cell_type": "code",
   "execution_count": null,
   "id": "accurate-farmer",
   "metadata": {
    "deletable": false,
    "nbgrader": {
     "cell_type": "code",
     "checksum": "b0c070b27061872fdcc548f6d47880a0",
     "grade": false,
     "grade_id": "LastConnect",
     "locked": false,
     "schema_version": 3,
     "solution": true,
     "task": false
    }
   },
   "outputs": [],
   "source": [
    "class LastConnect extends Module {\n",
    "    val io = IO(new Bundle {\n",
    "        val update = Input(Bool())\n",
    "        val out    = Output(UInt())\n",
    "    })\n",
    "    \n",
    "    io.out := 4.U\n",
    "    io.out := 5.U\n",
    "    // YOUR CODE HERE\n",
    "    ???\n",
    "    \n",
    "}"
   ]
  },
  {
   "cell_type": "code",
   "execution_count": null,
   "id": "formal-density",
   "metadata": {
    "deletable": false,
    "editable": false,
    "nbgrader": {
     "cell_type": "code",
     "checksum": "ffb5e29b04a2d3f1e532f6630dff1883",
     "grade": true,
     "grade_id": "testLastConnect",
     "locked": true,
     "points": 2,
     "schema_version": 3,
     "solution": false,
     "task": false
    }
   },
   "outputs": [],
   "source": [
    "def testLastConnect: Boolean = {\n",
    "    test(new LastConnect) { dut =>\n",
    "        dut.io.update.poke(true.B)\n",
    "        dut.io.out.expect(8.U)\n",
    "        \n",
    "        dut.io.update.poke(false.B)\n",
    "        dut.io.out.expect(5.U)\n",
    "    }\n",
    "    true\n",
    "}\n",
    "assert(testLastConnect)"
   ]
  },
  {
   "cell_type": "markdown",
   "id": "modified-drinking",
   "metadata": {
    "deletable": false,
    "editable": false,
    "nbgrader": {
     "cell_type": "markdown",
     "checksum": "0d8efeda1e8ec6089d5f478f66b4d942",
     "grade": false,
     "grade_id": "relu-header",
     "locked": true,
     "schema_version": 3,
     "solution": false,
     "task": false
    }
   },
   "source": [
    "## Problem 8 (8 pts) - Simple ReLU\n",
    "> Let's put together some of these techniques to build a more complicated module. A ReLU or rectified linear unit is a function used in ML. (https://en.wikipedia.org/wiki/Rectifier_(neural_networks))\n",
    "\n",
    "> To combine everything we've learned so far we will slightly modify the function to saturate at a parameterized upper-bound of our choosing. The module will compute this function: `f(x, upper_bound) = max(0, min(x, upperBound))`.\n",
    "\n",
    "> Here is an example where we parameterize `upperBound = 3`. Note the input `x` and output `y` will be of type SInt.\n",
    "\n",
    "<img src=\"images/relu.png\" style=\"width:60%;\">"
   ]
  },
  {
   "cell_type": "code",
   "execution_count": null,
   "id": "controlled-penguin",
   "metadata": {
    "deletable": false,
    "nbgrader": {
     "cell_type": "code",
     "checksum": "c67dc3d1e9de73019b3de254ddff2340",
     "grade": false,
     "grade_id": "relu",
     "locked": false,
     "schema_version": 3,
     "solution": true,
     "task": false
    }
   },
   "outputs": [],
   "source": [
    "class ReLU(upperBound: Int) extends Module {\n",
    "    val io = IO(new Bundle {\n",
    "        val x = Input(SInt(5.W))\n",
    "        val y = Output(SInt(5.W))\n",
    "    })\n",
    "    // YOUR CODE HERE\n",
    "    ???\n",
    "}"
   ]
  },
  {
   "cell_type": "markdown",
   "id": "roman-edmonton",
   "metadata": {
    "deletable": false,
    "editable": false,
    "nbgrader": {
     "cell_type": "markdown",
     "checksum": "5a4516d8a4d3ff261344971a6a38921d",
     "grade": false,
     "grade_id": "testrelu-header",
     "locked": true,
     "schema_version": 3,
     "solution": false,
     "task": false
    }
   },
   "source": [
    "### Testing ReLU\n",
    "> Write your own test for `ReLU` that tests `x` at input values `-1, 0, 1, 15`. The test (`testReLU`) is parameterized by `upperBound`, and you can assume `upperBound` is non-negative. The module should return `true` if and only if all calls to `dut.io.y.expect(...)` succeed."
   ]
  },
  {
   "cell_type": "code",
   "execution_count": null,
   "id": "included-disclaimer",
   "metadata": {
    "deletable": false,
    "nbgrader": {
     "cell_type": "code",
     "checksum": "ec0600818b8574423d150b31c961a3f8",
     "grade": false,
     "grade_id": "testReLu",
     "locked": false,
     "schema_version": 3,
     "solution": true,
     "task": false
    }
   },
   "outputs": [],
   "source": [
    "def testReLU(upperBound: Int): Boolean = {\n",
    "    require(upperBound >= 0)\n",
    "    test(new ReLU(upperBound)) { dut =>\n",
    "        \n",
    "    // YOUR CODE HERE\n",
    "    ???\n",
    "    true\n",
    "}"
   ]
  },
  {
   "cell_type": "code",
   "execution_count": null,
   "id": "adjacent-fifth",
   "metadata": {
    "deletable": false,
    "editable": false,
    "nbgrader": {
     "cell_type": "code",
     "checksum": "2479744fd1d2f62c3d29fbd0420869b9",
     "grade": true,
     "grade_id": "testRelu",
     "locked": true,
     "points": 8,
     "schema_version": 3,
     "solution": false,
     "task": false
    }
   },
   "outputs": [],
   "source": [
    "for(upperBound <- 0 until 16) {\n",
    "    println(s\"Testing ReLu, upperBound=$upperBound\")\n",
    "    assert(testReLU(upperBound))\n",
    "}"
   ]
  }
 ],
 "metadata": {
  "kernelspec": {
   "display_name": "Scala",
   "language": "scala",
   "name": "scala"
  },
  "language_info": {
   "codemirror_mode": "text/x-scala",
   "file_extension": ".sc",
   "mimetype": "text/x-scala",
   "name": "scala",
   "nbconvert_exporter": "script",
   "version": "2.13.14"
  }
 },
 "nbformat": 4,
 "nbformat_minor": 5
}
