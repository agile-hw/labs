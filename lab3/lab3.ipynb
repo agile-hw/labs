{
 "cells": [
  {
   "cell_type": "markdown",
   "id": "df9193f1-a46b-4cb5-94c3-347a03652596",
   "metadata": {
    "deletable": false,
    "editable": false,
    "nbgrader": {
     "cell_type": "markdown",
     "checksum": "a0f3da7949b7e3b352257024327de74f",
     "grade": false,
     "grade_id": "name-header",
     "locked": true,
     "schema_version": 3,
     "solution": false,
     "task": false
    }
   },
   "source": [
    "Before you turn this lab in, make sure everything runs as expected. First, **restart the kernel** (in the menubar, select Kernel$\\rightarrow$Restart) and then **run all cells** (in the menubar, select Cell$\\rightarrow$Run All).\n",
    "\n",
    "Make sure you fill in any place that says `YOUR CODE HERE` or \"YOUR ANSWER HERE\".\n",
    "\n",
    "**Provide your name and any collaborators below:**"
   ]
  },
  {
   "cell_type": "code",
   "execution_count": null,
   "id": "cc77c4e5-787d-4c36-8bb7-dfc9149c71aa",
   "metadata": {
    "deletable": false,
    "nbgrader": {
     "cell_type": "code",
     "checksum": "5fad56801fa7f1d09a1bd5d842e38b50",
     "grade": true,
     "grade_id": "name-collabs",
     "locked": false,
     "points": 0,
     "schema_version": 3,
     "solution": true,
     "task": false
    }
   },
   "outputs": [],
   "source": [
    "// YOUR CODE HERE\n",
    "???"
   ]
  },
  {
   "cell_type": "markdown",
   "id": "fluid-castle",
   "metadata": {
    "cell_style": "center",
    "deletable": false,
    "editable": false,
    "nbgrader": {
     "cell_type": "markdown",
     "checksum": "d5f0a6a459373fbc7b1b55a12edc23ac",
     "grade": false,
     "grade_id": "header",
     "locked": true,
     "schema_version": 3,
     "solution": false,
     "task": false
    },
    "slideshow": {
     "slide_type": "slide"
    }
   },
   "source": [
    "---\n",
    "# Lab 3 - Modularity, Parameters, and Decoupling\n",
    "> Labs will be due each week before the homeworks. They are not intended take a significant amount of time but rather to provide examples/practice on specific and isolated features in the language. Labs are autograded so you can get quick feedback."
   ]
  },
  {
   "cell_type": "markdown",
   "id": "final-rocket",
   "metadata": {
    "deletable": false,
    "editable": false,
    "nbgrader": {
     "cell_type": "markdown",
     "checksum": "9f555f0f7ac7048748fcf1a467a08721",
     "grade": false,
     "grade_id": "imports-header",
     "locked": true,
     "schema_version": 3,
     "solution": false,
     "task": false
    }
   },
   "source": [
    "### Import the necessary Chisel dependencies. \n",
    "> There will be a cell like this in every lab. Make sure you run it before proceeding to bring the Chisel Library into the Jupyter Notebook scope!"
   ]
  },
  {
   "cell_type": "code",
   "execution_count": null,
   "id": "literary-slovakia",
   "metadata": {
    "deletable": false,
    "editable": false,
    "nbgrader": {
     "cell_type": "code",
     "checksum": "53ac310fcfb7cb35f3e686d1755ee2a7",
     "grade": false,
     "grade_id": "imports1",
     "locked": true,
     "schema_version": 3,
     "solution": false,
     "task": false
    }
   },
   "outputs": [],
   "source": [
    "interp.configureCompiler(_.settings.processArguments(List(\"-Wconf:cat=deprecation:s\"), true))\n",
    "interp.load.module(os.Path(s\"${System.getProperty(\"user.dir\")}/resource/chisel_deps.sc\"))"
   ]
  },
  {
   "cell_type": "code",
   "execution_count": null,
   "id": "extreme-russell",
   "metadata": {
    "deletable": false,
    "editable": false,
    "nbgrader": {
     "cell_type": "code",
     "checksum": "901d9fdacbe59a9692672c167d68ce88",
     "grade": false,
     "grade_id": "imports",
     "locked": true,
     "schema_version": 3,
     "solution": false,
     "task": false
    }
   },
   "outputs": [],
   "source": [
    "import chisel3._\n",
    "import chisel3.util._\n",
    "import chiseltest._\n",
    "import chiseltest.RawTester.test"
   ]
  },
  {
   "cell_type": "markdown",
   "id": "ruled-track",
   "metadata": {
    "deletable": false,
    "editable": false,
    "nbgrader": {
     "cell_type": "markdown",
     "checksum": "eeee09d3c60ccf00c7a98c783afba6cf",
     "grade": false,
     "grade_id": "prob1-header",
     "locked": true,
     "schema_version": 3,
     "solution": false,
     "task": false
    }
   },
   "source": [
    "## Problem 1 (2 pts) - Chisel without Modules - Companion Objects\n",
    "> A _companion object_ can provide a _factory method_ which can also be used to return a properly instantiated module. These can be useful for tidying up IO connections.\n",
    ">\n",
    "> Write an `apply` method that creates an instance of an `ManyConnections` module, connects all the IO, and then returns the module's output as a `Bool`.\n"
   ]
  },
  {
   "cell_type": "code",
   "execution_count": null,
   "id": "double-jenny",
   "metadata": {
    "deletable": false,
    "nbgrader": {
     "cell_type": "code",
     "checksum": "32f7cda02ed4d47221bbc9a26fc35b9f",
     "grade": false,
     "grade_id": "companion",
     "locked": false,
     "schema_version": 3,
     "solution": true,
     "task": false
    }
   },
   "outputs": [],
   "source": [
    "class ManyConnections extends Module {\n",
    "    val io = IO(new Bundle {\n",
    "        val in0  = Input(Bool())\n",
    "        val in1  = Input(Bool())\n",
    "        val in2  = Input(Bool())\n",
    "        val in3  = Input(Bool())\n",
    "        val out = Output(Bool())\n",
    "    })\n",
    "    io.out := io.in0 & io.in1 & io.in2 & io.in3\n",
    "}\n",
    "\n",
    "object ManyConnections {\n",
    "// YOUR CODE HERE\n",
    "???\n",
    "}"
   ]
  },
  {
   "cell_type": "code",
   "execution_count": null,
   "id": "precious-agreement",
   "metadata": {
    "deletable": false,
    "editable": false,
    "nbgrader": {
     "cell_type": "code",
     "checksum": "e836133f953139440e44d2b13a70e0c0",
     "grade": true,
     "grade_id": "test-companion",
     "locked": true,
     "points": 2,
     "schema_version": 3,
     "solution": false,
     "task": false
    }
   },
   "outputs": [],
   "source": [
    "class UseManyConn extends Module {\n",
    "    val io = IO(new Bundle {\n",
    "        val in0 = Input(Bool())\n",
    "        val in1 = Input(Bool())\n",
    "        val in2 = Input(Bool())\n",
    "        val in3 = Input(Bool())\n",
    "        val out = Output(Bool())\n",
    "    })\n",
    "    \n",
    "    val one = ManyConnections(true.B, true.B, true.B, true.B)\n",
    "    val and = ManyConnections(io.in0, io.in1, io.in2, io.in3)\n",
    "    \n",
    "//     Hopefully above is more appealing than multiples of these:\n",
    "    \n",
    "//     val m0 = Module(new ManyConnections)\n",
    "//     m0.io.in0 := io.in0\n",
    "//     m0.io.in1 := io.in1\n",
    "//     m0.io.in2 := io.in2\n",
    "//     m0.io.in3 := io.in3\n",
    "//     val and = m0.io.out\n",
    "    io.out := one & and\n",
    "    \n",
    "}\n",
    "\n",
    "def testManyConnections: Boolean = {\n",
    "    test(new ManyConnections) { dut =>\n",
    "        dut.io.in0.poke(true.B)\n",
    "        dut.io.in1.poke(true.B)\n",
    "        dut.io.in2.poke(true.B)\n",
    "        dut.io.in3.poke(true.B)\n",
    "        dut.io.out.expect(true.B)\n",
    "\n",
    "        dut.io.in0.poke(false.B)\n",
    "        dut.io.in1.poke(true.B)\n",
    "        dut.io.in2.poke(true.B)\n",
    "        dut.io.in3.poke(true.B)\n",
    "        dut.io.out.expect(false.B)\n",
    "\n",
    "    }\n",
    "    true\n",
    "}\n",
    "assert(testManyConnections)"
   ]
  },
  {
   "cell_type": "markdown",
   "id": "outer-consumer",
   "metadata": {
    "deletable": false,
    "editable": false,
    "nbgrader": {
     "cell_type": "markdown",
     "checksum": "b970695d08622f2b337c7c76d0389ab3",
     "grade": false,
     "grade_id": "prob2-header",
     "locked": true,
     "schema_version": 3,
     "solution": false,
     "task": false
    }
   },
   "source": [
    "## Problem 2 (5 pts) - Case Classes\n",
    "> Scala's _case classes_ are very useful for packaging up parameters to the same location. The case class `ROMParams` will help pass a `Seq` and other parameters to build the `ROM` module. Complete both ROMParams and ROM. Based on the code provided, you should be able to infer the missing field names, appropriately size the various bitwidths, and instantiate a read-only memory."
   ]
  },
  {
   "cell_type": "code",
   "execution_count": null,
   "id": "green-triumph",
   "metadata": {
    "deletable": false,
    "nbgrader": {
     "cell_type": "code",
     "checksum": "5c89bce661e113332825d64fb580f199",
     "grade": false,
     "grade_id": "prob2",
     "locked": false,
     "schema_version": 3,
     "solution": true,
     "task": false
    }
   },
   "outputs": [],
   "source": [
    "case class ROMParams(data: Seq[Int]) {\n",
    "    val numElems = data.size\n",
    "    val largestElem = data.max\n",
    "    val dataInChiselT: Seq[UInt] = Seq.tabulate(data.size)(i => data(i).U)\n",
    "    // YOUR CODE HERE\n",
    "    ???\n",
    "}\n",
    "\n",
    "class ROMIO (p: ROMParams) extends Bundle {\n",
    "    val sel = Input(UInt(p.addrWidth.W))\n",
    "    val out = Output(UInt(p.elemWidth.W))\n",
    "}\n",
    "\n",
    "class ROM (p: ROMParams) extends Module {\n",
    "    val io = IO(new ROMIO(p))\n",
    "    // YOUR CODE HERE\n",
    "    ???\n",
    "}"
   ]
  },
  {
   "cell_type": "code",
   "execution_count": null,
   "id": "subject-shore",
   "metadata": {
    "deletable": false,
    "editable": false,
    "nbgrader": {
     "cell_type": "code",
     "checksum": "ca32404822cacb5124b28fd97d3420e6",
     "grade": true,
     "grade_id": "prob2-tests",
     "locked": true,
     "points": 5,
     "schema_version": 3,
     "solution": false,
     "task": false
    }
   },
   "outputs": [],
   "source": [
    "def testROM(l: Seq[Int]): Boolean = {\n",
    "    val p = ROMParams(l)\n",
    "    test(new ROM(p)) { dut =>\n",
    "        for (i <- 0 until l.size) {\n",
    "            dut.io.sel.poke(i.U)\n",
    "            dut.io.out.expect(l(i).U)\n",
    "        }\n",
    "        assert(p.addrWidth == log2Ceil(l.size + 1))\n",
    "        assert(p.elemWidth == log2Ceil(l.max + 1))\n",
    "    }\n",
    "    true\n",
    "}\n",
    "assert(testROM((0 until 5).toSeq))\n",
    "assert(testROM((20 until 31).toSeq))"
   ]
  },
  {
   "cell_type": "markdown",
   "id": "relative-canal",
   "metadata": {
    "deletable": false,
    "editable": false,
    "nbgrader": {
     "cell_type": "markdown",
     "checksum": "9c2e848f928ecda4d583aa7c534742b9",
     "grade": false,
     "grade_id": "prob3-header",
     "locked": true,
     "schema_version": 3,
     "solution": false,
     "task": false
    }
   },
   "source": [
    "## Problem 3 (3 pts) - Using Standard Counter\n",
    "> We saw in class how Chisel provides a [Counter](https://javadoc.io/doc/edu.berkeley.cs/chisel3_2.13/latest/chisel3/util/Counter.html). Use the standard `Counter` to implement the module `Ticker` below that sets the output `tick` high out after every `nTicks` cycles (parameter). For example, if `nTicks=2` the output will be high every other cycle."
   ]
  },
  {
   "cell_type": "code",
   "execution_count": null,
   "id": "major-washer",
   "metadata": {
    "deletable": false,
    "nbgrader": {
     "cell_type": "code",
     "checksum": "a5104d96f29149115ae7c5dc18d319a9",
     "grade": false,
     "grade_id": "prob3",
     "locked": false,
     "schema_version": 3,
     "solution": true,
     "task": false
    }
   },
   "outputs": [],
   "source": [
    "class Ticker(nTicks: Int) extends Module {\n",
    "    require(nTicks > 0)\n",
    "    val io = IO(new Bundle {\n",
    "        val tick = Output(Bool())\n",
    "    })\n",
    "    // YOUR CODE HERE\n",
    "    ???\n",
    "}"
   ]
  },
  {
   "cell_type": "code",
   "execution_count": null,
   "id": "institutional-breakdown",
   "metadata": {
    "deletable": false,
    "editable": false,
    "nbgrader": {
     "cell_type": "code",
     "checksum": "34cf0d71e2e1d45a21e2df8d730386cd",
     "grade": true,
     "grade_id": "prob3-tests",
     "locked": true,
     "points": 3,
     "schema_version": 3,
     "solution": false,
     "task": false
    }
   },
   "outputs": [],
   "source": [
    "def testTicker(nTicks: Int): Boolean = {\n",
    "    require(nTicks > 0)\n",
    "    test(new Ticker(nTicks)) { dut =>\n",
    "        for (round <- 0 until 3) {\n",
    "            for (c <- 0 until nTicks) {\n",
    "//                 println(s\"${round*nTicks + c}: ${dut.io.tick.peek()}\")\n",
    "                dut.io.tick.expect((c==nTicks-1).B)\n",
    "                dut.clock.step()\n",
    "            }\n",
    "        }\n",
    "    }\n",
    "    true\n",
    "}\n",
    "\n",
    "assert(testTicker(1))\n",
    "assert(testTicker(2))\n",
    "assert(testTicker(4))"
   ]
  },
  {
   "cell_type": "markdown",
   "id": "caring-graphic",
   "metadata": {
    "deletable": false,
    "editable": false,
    "nbgrader": {
     "cell_type": "markdown",
     "checksum": "955b24bed5afb782a73848cf6efebc93",
     "grade": false,
     "grade_id": "prob4-header",
     "locked": true,
     "schema_version": 3,
     "solution": false,
     "task": false
    }
   },
   "source": [
    "## Problem 4 (3 pts) - Chisel without Modules - Accumulator\n",
    "> Throughout our labs so far, we have typically wrapped our code in a class that extends `Module` anytime we wished to write Chisel code. We can actually use standard Scala classes/objects/defs to return Chisel components as long as they are eventually used in a `Module`. Make a class `Accumulator` without the use of `Module`. This class should have a register of type `UInt` to store the accumulated `data` values. When the `rst` signal is high, the accumulated value should reset to `0.U`. We have provided a companion object to instantiate your class."
   ]
  },
  {
   "cell_type": "code",
   "execution_count": null,
   "id": "cordless-architecture",
   "metadata": {
    "deletable": false,
    "nbgrader": {
     "cell_type": "code",
     "checksum": "b0230258f24e76d041fa2029da28054e",
     "grade": false,
     "grade_id": "prob4",
     "locked": false,
     "schema_version": 3,
     "solution": true,
     "task": false
    }
   },
   "outputs": [],
   "source": [
    "object Accumulator {\n",
    "    def apply(width: Int, data: UInt, rst: Bool) = {\n",
    "        val m = new Accumulator(width, data, rst)\n",
    "        m.count\n",
    "    }\n",
    "}\n",
    "\n",
    "// YOUR CODE HERE\n",
    "???"
   ]
  },
  {
   "cell_type": "code",
   "execution_count": null,
   "id": "systematic-danger",
   "metadata": {
    "deletable": false,
    "editable": false,
    "nbgrader": {
     "cell_type": "code",
     "checksum": "7a93d0134c856599c148a198691e0ce3",
     "grade": true,
     "grade_id": "prob4-test",
     "locked": true,
     "points": 3,
     "schema_version": 3,
     "solution": false,
     "task": false
    }
   },
   "outputs": [],
   "source": [
    "class AccumulatorInstMod(width: Int) extends Module {\n",
    "    val io = IO(new Bundle {\n",
    "        val data  = Input(UInt(width.W))\n",
    "        val rst   = Input(Bool())\n",
    "        val count = Output(UInt(width.W))\n",
    "    })\n",
    "    io.count := Accumulator(width, io.data, io.rst)\n",
    "}\n",
    "\n",
    "def testAccumulator: Boolean = {\n",
    "    test(new AccumulatorInstMod(4)) { dut =>\n",
    "        dut.io.data.poke(5.U)\n",
    "        dut.io.rst.poke(false.B)\n",
    "        dut.io.count.expect(0.U)\n",
    "        dut.clock.step()\n",
    "        \n",
    "        dut.io.data.poke(6.U)\n",
    "        dut.io.rst.poke(false.B)\n",
    "        dut.io.count.expect(5.U)\n",
    "        dut.clock.step()\n",
    "        \n",
    "        dut.io.data.poke(7.U)\n",
    "        dut.io.rst.poke(false.B)\n",
    "        dut.io.count.expect(11.U)\n",
    "        dut.clock.step()\n",
    "        \n",
    "        dut.io.data.poke(0.U)\n",
    "        dut.io.rst.poke(true.B)\n",
    "        dut.io.count.expect(2.U)\n",
    "        dut.clock.step()\n",
    "        \n",
    "        dut.io.count.expect(0.U)\n",
    "    }\n",
    "    true\n",
    "}\n",
    "assert(testAccumulator)"
   ]
  },
  {
   "cell_type": "markdown",
   "id": "nonprofit-january",
   "metadata": {
    "deletable": false,
    "editable": false,
    "nbgrader": {
     "cell_type": "markdown",
     "checksum": "dfc47ac5a80d6a95c3e8736874396e77",
     "grade": false,
     "grade_id": "prob5-header",
     "locked": true,
     "schema_version": 3,
     "solution": false,
     "task": false
    }
   },
   "source": [
    "## Problem 5 (5 pts) - Valid\n",
    "> Using your `Accumulator` class as a starting point, write a `ValidAccumulator` class that uses `Valid[UInt]` as the input, so it will only accumulate the incoming `data` if it is `valid`. Reset (rst) takes priority over valid."
   ]
  },
  {
   "cell_type": "code",
   "execution_count": null,
   "id": "physical-memphis",
   "metadata": {
    "deletable": false,
    "nbgrader": {
     "cell_type": "code",
     "checksum": "35643c4f26af641ef5586e2161fca4ae",
     "grade": false,
     "grade_id": "prob5",
     "locked": false,
     "schema_version": 3,
     "solution": true,
     "task": false
    }
   },
   "outputs": [],
   "source": [
    "object ValidAccumulator {\n",
    "    def apply(width: Int, data: Valid[UInt], rst: Bool) = {\n",
    "        val m = new ValidAccumulator(width, data, rst)\n",
    "        m.count\n",
    "    }\n",
    "}\n",
    "\n",
    "// YOUR CODE HERE\n",
    "???"
   ]
  },
  {
   "cell_type": "code",
   "execution_count": null,
   "id": "veterinary-boxing",
   "metadata": {
    "deletable": false,
    "editable": false,
    "nbgrader": {
     "cell_type": "code",
     "checksum": "07c85ba262539d50a8a5b55a76e3fbe2",
     "grade": true,
     "grade_id": "prob5-test",
     "locked": true,
     "points": 5,
     "schema_version": 3,
     "solution": false,
     "task": false
    }
   },
   "outputs": [],
   "source": [
    "class ValidAccumulatorInstMod(width: Int) extends Module {\n",
    "    val io = IO(new Bundle {\n",
    "        val data  = Input(Valid(UInt(width.W)))\n",
    "        val rst   = Input(Bool())\n",
    "        val count = Output(UInt(width.W))\n",
    "    })\n",
    "    io.count := ValidAccumulator(width, io.data, io.rst)\n",
    "}\n",
    "\n",
    "def testValidAccumulator: Boolean = {\n",
    "    test(new ValidAccumulatorInstMod(4)) { dut =>\n",
    "        dut.io.data.bits.poke(5.U)\n",
    "        dut.io.data.valid.poke(false.B)\n",
    "        dut.io.rst.poke(false.B)\n",
    "        dut.io.count.expect(0.U)\n",
    "        dut.clock.step()\n",
    "        \n",
    "        dut.io.data.bits.poke(5.U)\n",
    "        dut.io.data.valid.poke(true.B)\n",
    "        dut.io.rst.poke(false.B)\n",
    "        dut.io.count.expect(0.U)\n",
    "        dut.clock.step()\n",
    "        \n",
    "        dut.io.data.bits.poke(6.U)\n",
    "        dut.io.data.valid.poke(true.B)\n",
    "        dut.io.rst.poke(false.B)\n",
    "        dut.io.count.expect(5.U)\n",
    "        dut.clock.step()\n",
    "        \n",
    "        dut.io.data.bits.poke(7.U)\n",
    "        dut.io.data.valid.poke(false.B)\n",
    "        dut.io.rst.poke(false.B)\n",
    "        dut.io.count.expect(11.U)\n",
    "        dut.clock.step()\n",
    "        \n",
    "        dut.io.data.bits.poke(7.U)\n",
    "        dut.io.data.valid.poke(true.B)\n",
    "        dut.io.rst.poke(false.B)\n",
    "        dut.io.count.expect(11.U)\n",
    "        dut.clock.step()\n",
    "        \n",
    "        dut.io.data.bits.poke(0.U)\n",
    "        dut.io.data.valid.poke(false.B)\n",
    "        dut.io.rst.poke(true.B)\n",
    "        dut.io.count.expect(2.U)\n",
    "        dut.clock.step()\n",
    "        \n",
    "        dut.io.count.expect(0.U)\n",
    "    }\n",
    "    true\n",
    "}\n",
    "assert(testValidAccumulator)"
   ]
  },
  {
   "cell_type": "markdown",
   "id": "therapeutic-reverse",
   "metadata": {
    "deletable": false,
    "editable": false,
    "nbgrader": {
     "cell_type": "markdown",
     "checksum": "2728f063c16c1bd2e146ed38cfbed2a7",
     "grade": false,
     "grade_id": "prob6-header",
     "locked": true,
     "schema_version": 3,
     "solution": false,
     "task": false
    }
   },
   "source": [
    "## Problem 6 (7 pts) - Decoupled\n",
    "> Using your `ValidAccumulator` class as a starting point, write a `DecoupledAccumulator` class that uses a `Decoupled[UInt]` for the input data to indicate back pressure (via ready/valid signalling). It must wait `coolDown` cycles after accepting an input before it can accept another. For example, if `coolDown = 1`, it can accept new numbers no faster than every other cycle. Like the previous Accumulator problems, add the proper reset logic. You can assume `coolDown > 0`. At start up or coming out of reset/rst, you need to wait the `coolDown` amount."
   ]
  },
  {
   "cell_type": "code",
   "execution_count": null,
   "id": "independent-initial",
   "metadata": {
    "deletable": false,
    "nbgrader": {
     "cell_type": "code",
     "checksum": "0f65b1627cb1476c9adff41271e82374",
     "grade": false,
     "grade_id": "prob6",
     "locked": false,
     "schema_version": 3,
     "solution": true,
     "task": false
    }
   },
   "outputs": [],
   "source": [
    "object DecoupledAccumulator {\n",
    "    def apply(width: Int, data: DecoupledIO[UInt], rst: Bool, coolDown: Int) = {\n",
    "        require(coolDown > 0)\n",
    "        val m = new DecoupledAccumulator(width, data, rst, coolDown)\n",
    "        m.count\n",
    "    }\n",
    "}\n",
    "\n",
    "// YOUR CODE HERE\n",
    "???"
   ]
  },
  {
   "cell_type": "code",
   "execution_count": null,
   "id": "announced-apollo",
   "metadata": {
    "deletable": false,
    "editable": false,
    "nbgrader": {
     "cell_type": "code",
     "checksum": "47cfa95473800dcf75df13b755552040",
     "grade": true,
     "grade_id": "prob6-test",
     "locked": true,
     "points": 7,
     "schema_version": 3,
     "solution": false,
     "task": false
    }
   },
   "outputs": [],
   "source": [
    "class DecoupledAccumulatorInstMod(width: Int, coolDown: Int) extends Module {\n",
    "    val io = IO(new Bundle {\n",
    "        val data  = Flipped(Decoupled(UInt(width.W)))\n",
    "        val rst   = Input(Bool())\n",
    "        val count = Output(UInt(width.W))\n",
    "    })\n",
    "    io.count := DecoupledAccumulator(width, io.data, io.rst, coolDown)\n",
    "}\n",
    "\n",
    "def testDecoupledAccumulator: Boolean = {\n",
    "    test(new DecoupledAccumulatorInstMod(4, 1)) { dut =>\n",
    "        dut.io.data.bits.poke(1.U) // ignored\n",
    "        dut.io.data.valid.poke(true.B) \n",
    "        dut.io.rst.poke(false.B)\n",
    "        dut.io.count.expect(0.U)\n",
    "        dut.io.data.ready.expect(false.B)\n",
    "        dut.clock.step()\n",
    "\n",
    "        dut.io.data.bits.poke(2.U) // accumed\n",
    "        dut.io.data.valid.poke(true.B)\n",
    "        dut.io.rst.poke(false.B)\n",
    "        dut.io.count.expect(0.U)\n",
    "        dut.io.data.ready.expect(true.B)\n",
    "        dut.clock.step()\n",
    "\n",
    "        dut.io.data.bits.poke(3.U) // ignored\n",
    "        dut.io.data.valid.poke(true.B)\n",
    "        dut.io.rst.poke(false.B)\n",
    "        dut.io.count.expect(2.U)\n",
    "        dut.io.data.ready.expect(false.B)\n",
    "        dut.clock.step()\n",
    "\n",
    "        dut.io.data.bits.poke(4.U) // accumed\n",
    "        dut.io.data.valid.poke(true.B)\n",
    "        dut.io.rst.poke(false.B)\n",
    "        dut.io.count.expect(2.U)\n",
    "        dut.io.data.ready.expect(true.B)\n",
    "        dut.clock.step()\n",
    "\n",
    "        dut.io.data.bits.poke(5.U) // ignored since invalid\n",
    "        dut.io.data.valid.poke(false.B) // doesn't count\n",
    "        dut.io.rst.poke(false.B)\n",
    "        dut.io.count.expect(6.U)\n",
    "        dut.io.data.ready.expect(false.B)\n",
    "        dut.clock.step()\n",
    "\n",
    "        dut.io.data.bits.poke(6.U) // ignored since invalid\n",
    "        dut.io.data.valid.poke(false.B) // doesn't count\n",
    "        dut.io.rst.poke(false.B)\n",
    "        dut.io.count.expect(6.U)\n",
    "        dut.io.data.ready.expect(true.B)\n",
    "        dut.clock.step()\n",
    "\n",
    "        dut.io.data.bits.poke(7.U) // accumed\n",
    "        dut.io.data.valid.poke(true.B)\n",
    "        dut.io.rst.poke(false.B)\n",
    "        dut.io.count.expect(6.U)\n",
    "        dut.io.data.ready.expect(true.B)\n",
    "        dut.clock.step()\n",
    "\n",
    "        dut.io.count.expect(13.U)\n",
    "        dut.io.rst.poke(true.B) // reset\n",
    "        dut.clock.step()\n",
    "        dut.io.count.expect(0.U)\n",
    "    }\n",
    "    test(new DecoupledAccumulatorInstMod(4, 2)) { dut =>\n",
    "        dut.io.data.bits.poke(1.U) // ignored\n",
    "        dut.io.data.valid.poke(true.B) \n",
    "        dut.io.rst.poke(false.B)\n",
    "        dut.io.count.expect(0.U)\n",
    "        dut.io.data.ready.expect(false.B)\n",
    "        dut.clock.step()\n",
    "\n",
    "        dut.io.data.bits.poke(2.U) // ignored\n",
    "        dut.io.data.valid.poke(true.B)\n",
    "        dut.io.rst.poke(false.B)\n",
    "        dut.io.count.expect(0.U)\n",
    "        dut.io.data.ready.expect(false.B)\n",
    "        dut.clock.step()\n",
    "\n",
    "        dut.io.data.bits.poke(3.U) // accum\n",
    "        dut.io.data.valid.poke(true.B)\n",
    "        dut.io.rst.poke(false.B)\n",
    "        dut.io.count.expect(0.U)\n",
    "        dut.io.data.ready.expect(true.B)\n",
    "        dut.clock.step()\n",
    "\n",
    "        dut.io.data.bits.poke(4.U) // ignored\n",
    "        dut.io.data.valid.poke(true.B)\n",
    "        dut.io.rst.poke(false.B)\n",
    "        dut.io.count.expect(3.U)\n",
    "        dut.io.data.ready.expect(false.B)\n",
    "        dut.clock.step()\n",
    "    }\n",
    "    true\n",
    "}\n",
    "assert(testDecoupledAccumulator)"
   ]
  }
 ],
 "metadata": {
  "kernelspec": {
   "display_name": "Scala",
   "language": "scala",
   "name": "scala"
  },
  "language_info": {
   "codemirror_mode": "text/x-scala",
   "file_extension": ".sc",
   "mimetype": "text/x-scala",
   "name": "scala",
   "nbconvert_exporter": "script",
   "version": "2.13.14"
  }
 },
 "nbformat": 4,
 "nbformat_minor": 5
}
