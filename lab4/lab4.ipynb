{
 "cells": [
  {
   "cell_type": "markdown",
   "id": "8ef2c529-d3d2-4035-b780-d2b6583ce4aa",
   "metadata": {
    "deletable": false,
    "editable": false,
    "nbgrader": {
     "cell_type": "markdown",
     "checksum": "a0f3da7949b7e3b352257024327de74f",
     "grade": false,
     "grade_id": "name-header",
     "locked": true,
     "schema_version": 3,
     "solution": false,
     "task": false
    }
   },
   "source": [
    "Before you turn this lab in, make sure everything runs as expected. First, **restart the kernel** (in the menubar, select Kernel$\\rightarrow$Restart) and then **run all cells** (in the menubar, select Cell$\\rightarrow$Run All).\n",
    "\n",
    "Make sure you fill in any place that says `YOUR CODE HERE` or \"YOUR ANSWER HERE\".\n",
    "\n",
    "**Provide your name and any collaborators below:**"
   ]
  },
  {
   "cell_type": "code",
   "execution_count": null,
   "id": "75c8f2c0-b513-4140-bdf5-3699d6322c8d",
   "metadata": {
    "deletable": false,
    "nbgrader": {
     "cell_type": "code",
     "checksum": "5fad56801fa7f1d09a1bd5d842e38b50",
     "grade": true,
     "grade_id": "name-collabs",
     "locked": false,
     "points": 0,
     "schema_version": 3,
     "solution": true,
     "task": false
    }
   },
   "outputs": [],
   "source": [
    "// YOUR CODE HERE\n",
    "???"
   ]
  },
  {
   "cell_type": "markdown",
   "id": "committed-psychology",
   "metadata": {
    "cell_style": "center",
    "deletable": false,
    "editable": false,
    "nbgrader": {
     "cell_type": "markdown",
     "checksum": "5f8a47f291032dffb7167dee035df940",
     "grade": false,
     "grade_id": "header",
     "locked": true,
     "schema_version": 3,
     "solution": false,
     "task": false
    },
    "slideshow": {
     "slide_type": "slide"
    }
   },
   "source": [
    "---\n",
    "# Lab 4 - Functional Programming\n",
    "> Labs will be due each week before the homework. They are not intended take a significant amount of time but rather to provide examples/practice on specific and isolated features in the language. Labs are autograded so you can get quick feedback."
   ]
  },
  {
   "cell_type": "markdown",
   "id": "expanded-dance",
   "metadata": {
    "deletable": false,
    "editable": false,
    "nbgrader": {
     "cell_type": "markdown",
     "checksum": "9f555f0f7ac7048748fcf1a467a08721",
     "grade": false,
     "grade_id": "imports-header",
     "locked": true,
     "schema_version": 3,
     "solution": false,
     "task": false
    }
   },
   "source": [
    "### Import the necessary Chisel dependencies. \n",
    "> There will be a cell like this in every lab. Make sure you run it before proceeding to bring the Chisel Library into the Jupyter Notebook scope!"
   ]
  },
  {
   "cell_type": "code",
   "execution_count": null,
   "id": "private-consistency",
   "metadata": {
    "deletable": false,
    "editable": false,
    "nbgrader": {
     "cell_type": "code",
     "checksum": "53ac310fcfb7cb35f3e686d1755ee2a7",
     "grade": false,
     "grade_id": "imports1",
     "locked": true,
     "schema_version": 3,
     "solution": false,
     "task": false
    }
   },
   "outputs": [],
   "source": [
    "interp.configureCompiler(_.settings.processArguments(List(\"-Wconf:cat=deprecation:s\"), true))\n",
    "interp.load.module(os.Path(s\"${System.getProperty(\"user.dir\")}/resource/chisel_deps.sc\"))"
   ]
  },
  {
   "cell_type": "code",
   "execution_count": null,
   "id": "adequate-entrepreneur",
   "metadata": {
    "deletable": false,
    "editable": false,
    "nbgrader": {
     "cell_type": "code",
     "checksum": "901d9fdacbe59a9692672c167d68ce88",
     "grade": false,
     "grade_id": "imports",
     "locked": true,
     "schema_version": 3,
     "solution": false,
     "task": false
    }
   },
   "outputs": [],
   "source": [
    "import chisel3._\n",
    "import chisel3.util._\n",
    "import chiseltest._\n",
    "import chiseltest.RawTester.test"
   ]
  },
  {
   "cell_type": "markdown",
   "id": "reverse-vocabulary",
   "metadata": {
    "deletable": false,
    "editable": false,
    "nbgrader": {
     "cell_type": "markdown",
     "checksum": "4208627794cf8c7f735def38dfa5c515",
     "grade": false,
     "grade_id": "prob1-header",
     "locked": true,
     "schema_version": 3,
     "solution": false,
     "task": false
    }
   },
   "source": [
    "## Problem 1 (3 pts) - Seq addition\n",
    "> Use Scala `zip` and `map` to add the contents of two `Seq`s (element by element)."
   ]
  },
  {
   "cell_type": "code",
   "execution_count": null,
   "id": "noticed-rochester",
   "metadata": {
    "deletable": false,
    "nbgrader": {
     "cell_type": "code",
     "checksum": "f64dacbdff80d8a428cff3bc5e78a47e",
     "grade": false,
     "grade_id": "prob1",
     "locked": false,
     "schema_version": 3,
     "solution": true,
     "task": false
    }
   },
   "outputs": [],
   "source": [
    "def addSeqs(a: Seq[Int], b: Seq[Int]): Seq[Int] = {\n",
    "    // YOUR CODE HERE\n",
    "    ???\n",
    "}"
   ]
  },
  {
   "cell_type": "code",
   "execution_count": null,
   "id": "wicked-healthcare",
   "metadata": {
    "deletable": false,
    "editable": false,
    "nbgrader": {
     "cell_type": "code",
     "checksum": "5e08a3fbd3d6a86a4b301997ca8c90d0",
     "grade": true,
     "grade_id": "prob1-test",
     "locked": true,
     "points": 3,
     "schema_version": 3,
     "solution": false,
     "task": false
    }
   },
   "outputs": [],
   "source": [
    "val a = Seq.tabulate(8)(_.toInt)\n",
    "val b = Seq.tabulate(8)(_.toInt)\n",
    "assert(addSeqs(a, b) == Seq(0, 2, 4, 6, 8, 10, 12, 14))\n"
   ]
  },
  {
   "cell_type": "markdown",
   "id": "valid-gathering",
   "metadata": {
    "deletable": false,
    "editable": false,
    "nbgrader": {
     "cell_type": "markdown",
     "checksum": "a1229708768ffa9592ecb2a2bb066c70",
     "grade": false,
     "grade_id": "prob2-header",
     "locked": true,
     "schema_version": 3,
     "solution": false,
     "task": false
    }
   },
   "source": [
    "## Problem 2 (3 pts) - foreach with Chisel\n",
    "> The `VecRotate` module below shifts its input `Vec` by a constant `offset` (wraps around). Complete it by using `foreach`. You may find the Scala methods `drop` and `take` helpful."
   ]
  },
  {
   "cell_type": "code",
   "execution_count": null,
   "id": "regular-medicare",
   "metadata": {
    "deletable": false,
    "nbgrader": {
     "cell_type": "code",
     "checksum": "9497d51b8b579ad3b49658c50ee35ddf",
     "grade": false,
     "grade_id": "prob2",
     "locked": false,
     "schema_version": 3,
     "solution": true,
     "task": false
    }
   },
   "outputs": [],
   "source": [
    "class VecRotate(numElems: Int, width: Int, offset: Int) extends Module {\n",
    "    val io = IO(new Bundle {\n",
    "        val in  = Input(Vec(numElems, UInt(width.W)))\n",
    "        val out = Output(Vec(numElems, UInt(width.W)))\n",
    "    })\n",
    "    val rotated = io.in.drop(offset) ++ io.in.take(offset)\n",
    "    // YOUR CODE HERE\n",
    "    ???\n",
    "}"
   ]
  },
  {
   "cell_type": "code",
   "execution_count": null,
   "id": "typical-priority",
   "metadata": {
    "deletable": false,
    "editable": false,
    "nbgrader": {
     "cell_type": "code",
     "checksum": "cef2ceebd7f927668dc6c055a9a3f3d7",
     "grade": true,
     "grade_id": "prob2-tests",
     "locked": true,
     "points": 0,
     "schema_version": 3,
     "solution": false,
     "task": false
    }
   },
   "outputs": [],
   "source": [
    "def testVecRotate(numElems: Int, width: Int): Boolean = {\n",
    "    for (offset <- 0 until numElems) {\n",
    "        val input = 0 until numElems\n",
    "        val expected = input.drop(offset) ++ input.take(offset)\n",
    "        test(new VecRotate(numElems, width, offset)) { dut =>\n",
    "            (0 until numElems).foreach{ i => dut.io.in(i).poke(input(i).U) }\n",
    "            (0 until numElems).foreach{ i => dut.io.out(i).expect(expected(i).U) }\n",
    "        }\n",
    "    }\n",
    "    true\n",
    "}\n",
    "\n",
    "assert(testVecRotate(4,8))"
   ]
  },
  {
   "cell_type": "markdown",
   "id": "tight-oakland",
   "metadata": {
    "deletable": false,
    "editable": false,
    "nbgrader": {
     "cell_type": "markdown",
     "checksum": "7f4c3cc5f9fdbc86f54b96cbdd9734e6",
     "grade": false,
     "grade_id": "prob3-header",
     "locked": true,
     "schema_version": 3,
     "solution": false,
     "task": false
    }
   },
   "source": [
    "## Problem 3 (6 pts) - zipWithIndex\n",
    "> First, use `foldLeft` to implement the `exp` function (computes exponent). Then use `zipWithIndex`, `map`, `exp`, and `reduce`/`foldLeft` to concisely evaluate a polynomial. The index in the sequence is the degree in the polynomial (e.g. _coefs(i) * x^i_)"
   ]
  },
  {
   "cell_type": "code",
   "execution_count": null,
   "id": "living-semester",
   "metadata": {
    "deletable": false,
    "nbgrader": {
     "cell_type": "code",
     "checksum": "e611f5f21719c38d7e0ecaa9e84b375c",
     "grade": false,
     "grade_id": "prob3",
     "locked": false,
     "schema_version": 3,
     "solution": true,
     "task": false
    }
   },
   "outputs": [],
   "source": [
    "def exp(base: Int, deg: Int): Int = {\n",
    "    // YOUR CODE HERE\n",
    "    ???\n",
    "}\n",
    "\n",
    "def polyEval(coefs: Seq[Int], x: Int): Int = {\n",
    "    // YOUR CODE HERE\n",
    "    ???\n",
    "}"
   ]
  },
  {
   "cell_type": "code",
   "execution_count": null,
   "id": "moving-indie",
   "metadata": {
    "deletable": false,
    "editable": false,
    "nbgrader": {
     "cell_type": "code",
     "checksum": "c8fe512c56ebd69d4780c4849b74a79d",
     "grade": true,
     "grade_id": "prob3-test",
     "locked": true,
     "points": 6,
     "schema_version": 3,
     "solution": false,
     "task": false
    }
   },
   "outputs": [],
   "source": [
    "assert (exp(5, 0) == 1)\n",
    "assert (exp(2, 5) == 32)\n",
    "assert (exp(4, 3) == 64)\n",
    "// 0*x^0 + 1*x^1 + 2*x^2\n",
    "assert(polyEval(Seq(0, 1, 2), 5) == 55)\n",
    "assert(polyEval(Seq(0, 1, 2), 0) == 0)\n"
   ]
  },
  {
   "cell_type": "markdown",
   "id": "therapeutic-confidentiality",
   "metadata": {
    "deletable": false,
    "editable": false,
    "nbgrader": {
     "cell_type": "markdown",
     "checksum": "81e79a08a531cff70405b88dadcc3954",
     "grade": false,
     "grade_id": "prob4-header",
     "locked": true,
     "schema_version": 3,
     "solution": false,
     "task": false
    }
   },
   "source": [
    "## Problem 4 (6 pts) - map on matrix\n",
    "> Given a `n` x `n` matrix (`Seq[Seq[Int]]`), use `map` and `zipWithIndex` to add `x` to the diagonal (other cells unchanged). For this function `incDiag`, the matrix is in row-major order. For example if `x=4`: \n",
    "``` \n",
    "    List(1, 1, 1, 1, 1) -> List(5, 1, 1, 1, 1)\n",
    "    List(1, 1, 1, 1, 1) -> List(1, 5, 1, 1, 1)\n",
    "    List(1, 1, 1, 1, 1) -> List(1, 1, 5, 1, 1)\n",
    "    List(1, 1, 1, 1, 1) -> List(1, 1, 1, 5, 1)\n",
    "    List(1, 1, 1, 1, 1) -> List(1, 1, 1, 1, 5)\n",
    "```"
   ]
  },
  {
   "cell_type": "code",
   "execution_count": null,
   "id": "appointed-bracelet",
   "metadata": {
    "deletable": false,
    "nbgrader": {
     "cell_type": "code",
     "checksum": "439faeb3471edcae0eb83285495001b1",
     "grade": false,
     "grade_id": "prob4",
     "locked": false,
     "schema_version": 3,
     "solution": true,
     "task": false
    }
   },
   "outputs": [],
   "source": [
    "// YOUR CODE HERE\n",
    "???"
   ]
  },
  {
   "cell_type": "code",
   "execution_count": null,
   "id": "verbal-committee",
   "metadata": {
    "deletable": false,
    "editable": false,
    "nbgrader": {
     "cell_type": "code",
     "checksum": "8d1ce9d3ec8701d612537cc684ec6faf",
     "grade": true,
     "grade_id": "prob4-test",
     "locked": true,
     "points": 6,
     "schema_version": 3,
     "solution": false,
     "task": false
    }
   },
   "outputs": [],
   "source": [
    "val in = List(\n",
    "  List(1, 1, 1, 1, 1),\n",
    "  List(1, 1, 1, 1, 1),\n",
    "  List(1, 1, 1, 1, 1),\n",
    "  List(1, 1, 1, 1, 1),\n",
    "  List(1, 1, 1, 1, 1)\n",
    ")\n",
    "\n",
    "val out = List(\n",
    "  List(5, 1, 1, 1, 1),\n",
    "  List(1, 5, 1, 1, 1),\n",
    "  List(1, 1, 5, 1, 1),\n",
    "  List(1, 1, 1, 5, 1),\n",
    "  List(1, 1, 1, 1, 5)\n",
    ")\n",
    "assert(incDiag(in, 4) == out)\n",
    "\n"
   ]
  },
  {
   "cell_type": "markdown",
   "id": "filled-hampton",
   "metadata": {
    "deletable": false,
    "editable": false,
    "nbgrader": {
     "cell_type": "markdown",
     "checksum": "d8b66a48301b983c704f318fe2da3639",
     "grade": false,
     "grade_id": "prob5-header",
     "locked": true,
     "schema_version": 3,
     "solution": false,
     "task": false
    }
   },
   "source": [
    "## Problem 5 (10 pts) - flatMap and reduce with Chisel\n",
    "> Let's put together what we've covered to make a Chisel module. Complete the `MatrixSearch` module below that looks for the input `searchFor` by comparing all of the elements of the input matrix `mat` (2D `Vec`). If (and only if) `searchFor` matches any of the elements in `mat`, the output `found` should be _true_. Your solution should use `flatMap`, `reduce`, and possibly `map`."
   ]
  },
  {
   "cell_type": "code",
   "execution_count": null,
   "id": "taken-disease",
   "metadata": {
    "deletable": false,
    "nbgrader": {
     "cell_type": "code",
     "checksum": "b89e5cf33cf24e619f805cf0c6756b39",
     "grade": false,
     "grade_id": "prob5",
     "locked": false,
     "schema_version": 3,
     "solution": true,
     "task": false
    }
   },
   "outputs": [],
   "source": [
    "class MatrixSearch(numRows: Int, numCols: Int, width: Int) extends Module {\n",
    "    require(numRows > 1)\n",
    "    require(numCols > 1)\n",
    "    val io = IO(new Bundle {\n",
    "        val mat = Input(Vec(numRows, Vec(numCols, UInt(width.W))))\n",
    "        val searchFor = Input(UInt(width.W))\n",
    "        val found = Output(Bool())\n",
    "    })\n",
    "    // YOUR CODE HERE\n",
    "    ???\n",
    "}"
   ]
  },
  {
   "cell_type": "code",
   "execution_count": null,
   "id": "native-proposition",
   "metadata": {
    "deletable": false,
    "editable": false,
    "nbgrader": {
     "cell_type": "code",
     "checksum": "ffea5325026b1ced5a8136b2295056c5",
     "grade": true,
     "grade_id": "prob5-test",
     "locked": true,
     "points": 10,
     "schema_version": 3,
     "solution": false,
     "task": false
    }
   },
   "outputs": [],
   "source": [
    "def testMatrixSearch(numRows: Int, numCols: Int, width: Int): Boolean = {\n",
    "    require(log2Ceil(numRows) < width)\n",
    "    test(new MatrixSearch(numRows, numCols, width)) { dut =>\n",
    "        (0 until numRows) foreach {\n",
    "             r => (0 until numCols) foreach { \n",
    "                c => dut.io.mat(r)(c).poke(r.U)\n",
    "            }\n",
    "        }\n",
    "        for (r <- 0 until numRows) {\n",
    "            dut.io.searchFor.poke(r.U)\n",
    "            dut.io.found.expect(true.B)\n",
    "        }\n",
    "        dut.io.searchFor.poke(numRows.U)\n",
    "        dut.io.found.expect(false.B)\n",
    "    }\n",
    "    true\n",
    "}\n",
    "\n",
    "assert(testMatrixSearch(2,2,8))\n"
   ]
  }
 ],
 "metadata": {
  "kernelspec": {
   "display_name": "Scala",
   "language": "scala",
   "name": "scala"
  },
  "language_info": {
   "codemirror_mode": "text/x-scala",
   "file_extension": ".sc",
   "mimetype": "text/x-scala",
   "name": "scala",
   "nbconvert_exporter": "script",
   "version": "2.13.14"
  }
 },
 "nbformat": 4,
 "nbformat_minor": 5
}
