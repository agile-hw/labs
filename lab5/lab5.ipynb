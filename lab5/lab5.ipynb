{
 "cells": [
  {
   "cell_type": "markdown",
   "id": "9ca82c4d-7ebb-42d1-8976-a3cec7b92adb",
   "metadata": {
    "deletable": false,
    "editable": false,
    "nbgrader": {
     "cell_type": "markdown",
     "checksum": "a0f3da7949b7e3b352257024327de74f",
     "grade": false,
     "grade_id": "name-header",
     "locked": true,
     "schema_version": 3,
     "solution": false,
     "task": false
    }
   },
   "source": [
    "Before you turn this lab in, make sure everything runs as expected. First, **restart the kernel** (in the menubar, select Kernel$\\rightarrow$Restart) and then **run all cells** (in the menubar, select Cell$\\rightarrow$Run All).\n",
    "\n",
    "Make sure you fill in any place that says `YOUR CODE HERE` or \"YOUR ANSWER HERE\".\n",
    "\n",
    "**Provide your name and any collaborators below:**"
   ]
  },
  {
   "cell_type": "code",
   "execution_count": null,
   "id": "c06e41a2-fc18-4ea6-b3d9-6585e86c3bbb",
   "metadata": {
    "deletable": false,
    "nbgrader": {
     "cell_type": "code",
     "checksum": "5fad56801fa7f1d09a1bd5d842e38b50",
     "grade": true,
     "grade_id": "name-collabs",
     "locked": false,
     "points": 0,
     "schema_version": 3,
     "solution": true,
     "task": false
    }
   },
   "outputs": [],
   "source": [
    "// YOUR CODE HERE\n",
    "???"
   ]
  },
  {
   "cell_type": "markdown",
   "id": "knowing-summit",
   "metadata": {
    "cell_style": "center",
    "deletable": false,
    "editable": false,
    "nbgrader": {
     "cell_type": "markdown",
     "checksum": "00b3ddec442ce0bf1063787c18f74f03",
     "grade": false,
     "grade_id": "header",
     "locked": true,
     "schema_version": 3,
     "solution": false,
     "task": false
    },
    "slideshow": {
     "slide_type": "slide"
    }
   },
   "source": [
    "---\n",
    "# Lab 5 - Inheritence\n",
    "> Labs will be due each week before the homework. They are not intended take a significant amount of time but rather to provide examples/practice on specific and isolated features in the language. Labs are autograded so you can get quick feedback."
   ]
  },
  {
   "cell_type": "markdown",
   "id": "listed-window",
   "metadata": {
    "deletable": false,
    "editable": false,
    "nbgrader": {
     "cell_type": "markdown",
     "checksum": "9f555f0f7ac7048748fcf1a467a08721",
     "grade": false,
     "grade_id": "imports-header",
     "locked": true,
     "schema_version": 3,
     "solution": false,
     "task": false
    }
   },
   "source": [
    "### Import the necessary Chisel dependencies. \n",
    "> There will be a cell like this in every lab. Make sure you run it before proceeding to bring the Chisel Library into the Jupyter Notebook scope!"
   ]
  },
  {
   "cell_type": "code",
   "execution_count": null,
   "id": "bored-final",
   "metadata": {
    "deletable": false,
    "editable": false,
    "nbgrader": {
     "cell_type": "code",
     "checksum": "53ac310fcfb7cb35f3e686d1755ee2a7",
     "grade": false,
     "grade_id": "imports1",
     "locked": true,
     "schema_version": 3,
     "solution": false,
     "task": false
    }
   },
   "outputs": [],
   "source": [
    "interp.configureCompiler(_.settings.processArguments(List(\"-Wconf:cat=deprecation:s\"), true))\n",
    "interp.load.module(os.Path(s\"${System.getProperty(\"user.dir\")}/resource/chisel_deps.sc\"))"
   ]
  },
  {
   "cell_type": "code",
   "execution_count": null,
   "id": "adaptive-canon",
   "metadata": {
    "deletable": false,
    "editable": false,
    "nbgrader": {
     "cell_type": "code",
     "checksum": "901d9fdacbe59a9692672c167d68ce88",
     "grade": false,
     "grade_id": "imports",
     "locked": true,
     "schema_version": 3,
     "solution": false,
     "task": false
    }
   },
   "outputs": [],
   "source": [
    "import chisel3._\n",
    "import chisel3.util._\n",
    "import chiseltest._\n",
    "import chiseltest.RawTester.test"
   ]
  },
  {
   "cell_type": "markdown",
   "id": "faced-verification",
   "metadata": {
    "deletable": false,
    "editable": false,
    "nbgrader": {
     "cell_type": "markdown",
     "checksum": "44c5a5b7e251abab0a6ea26186024af6",
     "grade": false,
     "grade_id": "prob1-header",
     "locked": true,
     "schema_version": 3,
     "solution": false,
     "task": false
    },
    "tags": []
   },
   "source": [
    "## Problem 1 (6 pts) - Method Templated for Chisel Types\n",
    "> Write a generic `connect` method that takes in two generic arguments `a` and `b` of type `chisel3.Data` and connects `a` (input) to `b` (output)."
   ]
  },
  {
   "cell_type": "code",
   "execution_count": null,
   "id": "electric-number",
   "metadata": {
    "deletable": false,
    "nbgrader": {
     "cell_type": "code",
     "checksum": "b03438d7319eb5de22b8a7173c4739a6",
     "grade": false,
     "grade_id": "prob1",
     "locked": false,
     "schema_version": 3,
     "solution": true,
     "task": false
    },
    "tags": []
   },
   "outputs": [],
   "source": [
    "// YOUR CODE HERE\n",
    "???"
   ]
  },
  {
   "cell_type": "code",
   "execution_count": null,
   "id": "virtual-organization",
   "metadata": {
    "deletable": false,
    "editable": false,
    "nbgrader": {
     "cell_type": "code",
     "checksum": "c8e6ab1151c24959e142b94433d28303",
     "grade": true,
     "grade_id": "prob1-test",
     "locked": true,
     "points": 6,
     "schema_version": 3,
     "solution": false,
     "task": false
    },
    "tags": []
   },
   "outputs": [],
   "source": [
    "class TestConnect extends Module {\n",
    "    val io = IO(new Bundle {\n",
    "        val u = Output(UInt())\n",
    "        val s = Output(SInt())\n",
    "    })\n",
    "     \n",
    "    connect(io.u, 10.U)\n",
    "    connect(io.s, -10.S)\n",
    "}\n",
    "\n",
    "def testConnect: Boolean = {\n",
    "    test(new TestConnect) { dut =>\n",
    "        dut.io.u.expect(10.U)\n",
    "        dut.io.s.expect(-10.S)\n",
    "    }\n",
    "    true\n",
    "}\n",
    "assert(testConnect)"
   ]
  },
  {
   "cell_type": "markdown",
   "id": "rural-nation",
   "metadata": {
    "deletable": false,
    "editable": false,
    "nbgrader": {
     "cell_type": "markdown",
     "checksum": "fdb65bdf7d787dd370f7fad4583cf75f",
     "grade": false,
     "grade_id": "prob2-header",
     "locked": true,
     "schema_version": 3,
     "solution": false,
     "task": false
    },
    "tags": []
   },
   "source": [
    "## Problem 2 (8 pts) - Case Class pattern matching and traits\n",
    "> Fill in the body of `ProcessRequest` using pattern matching to translate a requested `MealItem` into a more descriptive string. The meal items are case classes inheriting from MealItem. You can infer what the strings should be by looking at the following testcases."
   ]
  },
  {
   "cell_type": "code",
   "execution_count": null,
   "id": "57a5ab20-d1e6-475b-902c-d686c795d209",
   "metadata": {
    "deletable": false,
    "nbgrader": {
     "cell_type": "code",
     "checksum": "32943ebb5af0b447225122d665c802f4",
     "grade": false,
     "grade_id": "prob2",
     "locked": false,
     "schema_version": 3,
     "solution": true,
     "task": false
    },
    "tags": []
   },
   "outputs": [],
   "source": [
    "abstract class MealItem\n",
    "\n",
    "case class Drink(variety: String) extends MealItem\n",
    "\n",
    "case class Burger(withCheese: Boolean) extends MealItem\n",
    "\n",
    "case object Fries extends MealItem\n",
    "\n",
    "def ProcessRequest(request: MealItem): String = {\n",
    "    request match {\n",
    "        // YOUR CODE HERE\n",
    "        ???\n",
    "    }\n",
    "}\n",
    "\n",
    "def ProcessOrder(order: Seq[MealItem]) {\n",
    "    order foreach { item => println(ProcessRequest(item)) }\n",
    "}"
   ]
  },
  {
   "cell_type": "code",
   "execution_count": null,
   "id": "f6e125aa-783e-4449-a207-a99e9a31adcd",
   "metadata": {
    "deletable": false,
    "editable": false,
    "nbgrader": {
     "cell_type": "code",
     "checksum": "14c77da8478fb25d3de5f0ac445e2ff3",
     "grade": true,
     "grade_id": "prob2-tests",
     "locked": true,
     "points": 8,
     "schema_version": 3,
     "solution": false,
     "task": false
    },
    "tags": []
   },
   "outputs": [],
   "source": [
    "assert (ProcessRequest(Drink(\"water\")) == \"Water is healthy\", \"water\")\n",
    "\n",
    "assert (ProcessRequest(Drink(\"soda\")) == \"Soda is refreshing\", \"soda\")\n",
    "\n",
    "assert (ProcessRequest(Burger(true)) == \"Mmm... cheeseburger\", \"cheeseburger\")\n",
    "\n",
    "assert (ProcessRequest(Burger(false)) == \"Mmm... plain hamburger\", \"hamburger\")\n",
    "\n",
    "assert (ProcessRequest(Fries) == \"Fries were a good decision\", \"fries\")\n",
    "\n",
    "assert (ProcessRequest(Drink(\"special request\")) == \"Couldn't match Drink(special request)\", \"other\")"
   ]
  },
  {
   "cell_type": "markdown",
   "id": "fundamental-alberta",
   "metadata": {
    "deletable": false,
    "editable": false,
    "nbgrader": {
     "cell_type": "markdown",
     "checksum": "26fa357436e0c235026e3457063c7bea",
     "grade": false,
     "grade_id": "prob6-header",
     "locked": true,
     "schema_version": 3,
     "solution": false,
     "task": false
    }
   },
   "source": [
    "## Problem 3 (11 pts) - Chisel trait\n",
    "> Fill in the missing fields in the `DbgCounter` trait. The purpose of this trait is to add a debug counter that prints out the current cycle if the `debug` input (Bool) is true. The trait should add an output `count` (UInt) representing the debug counter. _Hint:_ peek at the test case to infer signal names and data types."
   ]
  },
  {
   "cell_type": "code",
   "execution_count": null,
   "id": "interesting-resource",
   "metadata": {
    "deletable": false,
    "nbgrader": {
     "cell_type": "code",
     "checksum": "b482b008eb64ea0c8329a04b5f8424f5",
     "grade": false,
     "grade_id": "prob6",
     "locked": false,
     "schema_version": 3,
     "solution": true,
     "task": false
    }
   },
   "outputs": [],
   "source": [
    "trait DbgCounter extends Module {\n",
    "    // YOUR CODE HERE\n",
    "    ???\n",
    "}\n",
    "\n"
   ]
  },
  {
   "cell_type": "code",
   "execution_count": null,
   "id": "usual-syndication",
   "metadata": {
    "deletable": false,
    "editable": false,
    "nbgrader": {
     "cell_type": "code",
     "checksum": "032a392234edd023257530a524914e38",
     "grade": true,
     "grade_id": "prob6-tests",
     "locked": true,
     "points": 11,
     "schema_version": 3,
     "solution": false,
     "task": false
    }
   },
   "outputs": [],
   "source": [
    "class TestMod(maxCycles: Int) extends Module with DbgCounter {\n",
    "   def n = maxCycles \n",
    "}\n",
    "\n",
    "def testDbgCounter(n: Int, printDbg: Boolean): Boolean = {\n",
    "    test(new TestMod(n)) { dut =>\n",
    "        dut.debug.poke(printDbg.B)\n",
    "        for (i <- 0 until n) { \n",
    "            dut.count.expect(i.U)\n",
    "            dut.clock.step()\n",
    "        }\n",
    "        // test that counter wraps\n",
    "        dut.count.expect(0.U)\n",
    "    }\n",
    "    true\n",
    "}\n",
    "\n",
    "assert(testDbgCounter(n=5, true))\n",
    "assert(testDbgCounter(n=15, false))"
   ]
  }
 ],
 "metadata": {
  "kernelspec": {
   "display_name": "Scala",
   "language": "scala",
   "name": "scala"
  },
  "language_info": {
   "codemirror_mode": "text/x-scala",
   "file_extension": ".sc",
   "mimetype": "text/x-scala",
   "name": "scala",
   "nbconvert_exporter": "script",
   "version": "2.13.14"
  }
 },
 "nbformat": 4,
 "nbformat_minor": 5
}
