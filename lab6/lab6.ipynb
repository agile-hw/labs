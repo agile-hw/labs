{
 "cells": [
  {
   "cell_type": "markdown",
   "id": "56171168-d38d-4f6f-9986-f1b2bd6c595e",
   "metadata": {
    "deletable": false,
    "editable": false,
    "nbgrader": {
     "cell_type": "markdown",
     "checksum": "a0f3da7949b7e3b352257024327de74f",
     "grade": false,
     "grade_id": "name-header",
     "locked": true,
     "schema_version": 3,
     "solution": false,
     "task": false
    },
    "slideshow": {
     "slide_type": ""
    },
    "tags": []
   },
   "source": [
    "Before you turn this lab in, make sure everything runs as expected. First, **restart the kernel** (in the menubar, select Kernel$\\rightarrow$Restart) and then **run all cells** (in the menubar, select Cell$\\rightarrow$Run All).\n",
    "\n",
    "Make sure you fill in any place that says `YOUR CODE HERE` or \"YOUR ANSWER HERE\".\n",
    "\n",
    "**Provide your name and any collaborators below:**"
   ]
  },
  {
   "cell_type": "code",
   "execution_count": null,
   "id": "d3a52708-c337-498a-a6d4-1c7b610744f5",
   "metadata": {
    "deletable": false,
    "editable": true,
    "nbgrader": {
     "cell_type": "code",
     "checksum": "5fad56801fa7f1d09a1bd5d842e38b50",
     "grade": true,
     "grade_id": "name-collabs",
     "locked": false,
     "points": 0,
     "schema_version": 3,
     "solution": true,
     "task": false
    },
    "slideshow": {
     "slide_type": ""
    },
    "tags": []
   },
   "outputs": [],
   "source": [
    "// YOUR CODE HERE\n",
    "???"
   ]
  },
  {
   "cell_type": "markdown",
   "id": "committed-psychology",
   "metadata": {
    "cell_style": "center",
    "deletable": false,
    "editable": false,
    "nbgrader": {
     "cell_type": "markdown",
     "checksum": "2510a5209169504817b6d1336f63a670",
     "grade": false,
     "grade_id": "header",
     "locked": true,
     "schema_version": 3,
     "solution": false,
     "task": false
    },
    "slideshow": {
     "slide_type": ""
    },
    "tags": []
   },
   "source": [
    "---\n",
    "# Lab 6 - Formal Verification\n",
    "> Labs will be due each week before the homework. They are not intended take a significant amount of time but rather to provide examples/practice on specific and isolated features in the language.\n",
    "\n",
    "**This lab has reduced autograding functionality!** The staff will need to manually grade inspect some portions of this lab. Thus, please be sure to check (and double check) your work as best as you can before submitting. The autograder score may not be the final score.\n",
    "\n",
    "When completing this lab, you may frequently find the assertions you write fail. Often times, you need to tweak your assertion to better consider corner cases. To best understand what is causing your assertion to fail, be sure to use the additional arguments to `assert` to print out the values and an informative string."
   ]
  },
  {
   "cell_type": "markdown",
   "id": "expanded-dance",
   "metadata": {
    "deletable": false,
    "editable": false,
    "nbgrader": {
     "cell_type": "markdown",
     "checksum": "9f555f0f7ac7048748fcf1a467a08721",
     "grade": false,
     "grade_id": "imports-header",
     "locked": true,
     "schema_version": 3,
     "solution": false,
     "task": false
    }
   },
   "source": [
    "### Import the necessary Chisel dependencies. \n",
    "> There will be a cell like this in every lab. Make sure you run it before proceeding to bring the Chisel Library into the Jupyter Notebook scope!"
   ]
  },
  {
   "cell_type": "code",
   "execution_count": null,
   "id": "private-consistency",
   "metadata": {
    "deletable": false,
    "editable": false,
    "nbgrader": {
     "cell_type": "code",
     "checksum": "53ac310fcfb7cb35f3e686d1755ee2a7",
     "grade": false,
     "grade_id": "imports1",
     "locked": true,
     "schema_version": 3,
     "solution": false,
     "task": false
    }
   },
   "outputs": [],
   "source": [
    "interp.configureCompiler(_.settings.processArguments(List(\"-Wconf:cat=deprecation:s\"), true))\n",
    "interp.load.module(os.Path(s\"${System.getProperty(\"user.dir\")}/resource/chisel_deps.sc\"))"
   ]
  },
  {
   "cell_type": "code",
   "execution_count": null,
   "id": "adequate-entrepreneur",
   "metadata": {
    "deletable": false,
    "editable": false,
    "nbgrader": {
     "cell_type": "code",
     "checksum": "70a61f323c820ca31f51c3bc74fc62a4",
     "grade": false,
     "grade_id": "imports",
     "locked": true,
     "schema_version": 3,
     "solution": false,
     "task": false
    }
   },
   "outputs": [],
   "source": [
    "import chisel3._\n",
    "import chisel3.util._\n",
    "import chiseltest._\n",
    "import chiseltest.formal._\n",
    "import chiseltest.RawTester._"
   ]
  },
  {
   "cell_type": "markdown",
   "id": "20f9ad8d-298f-421b-bc96-58b77f73af6b",
   "metadata": {},
   "source": [
    "## Problem 1 - Majority Circuit (Combinational Logic) (6 points)\n",
    "> The `Majority` generator generates a [majority circuit](https://en.wikipedia.org/wiki/Majority_function) for a given number of inputs. A majority circuit returns true if greater than half of its inputs are true. Although it is implemented, the implementation is non-trivial, so we would like to formally verify it."
   ]
  },
  {
   "cell_type": "code",
   "execution_count": null,
   "id": "12651e0e-5b2a-4367-b274-8663df94d758",
   "metadata": {},
   "outputs": [],
   "source": [
    "class Majority(numInputs: Int) extends Module {\n",
    "    val io = IO(new Bundle {\n",
    "        val in = Input(Vec(numInputs, Bool()))\n",
    "        val out = Output(Bool())\n",
    "    })\n",
    "    val majorityThreshold = (numInputs / 2) + 1\n",
    "    val allPossibleWins = (0 until numInputs).combinations(majorityThreshold)\n",
    "    val allAndGates = allPossibleWins.map{\n",
    "        combo => combo.map(index => io.in(index)).reduce(_ && _)\n",
    "    }\n",
    "    io.out := allAndGates.reduce(_ || _)\n",
    "}"
   ]
  },
  {
   "cell_type": "markdown",
   "id": "8aaccfb9-6890-4eb6-8cd8-c9a7476ec27b",
   "metadata": {},
   "source": [
    "> When writing assertions, it is sometimes nice to declare additional Chisel components to track data (via registers) or pull complicated expressions out of the assertion statements. To prevent this additional hardware from adding onto the original module, we can make a new module that extends the original module (via inheritance). We can put these assertions and their corresponding extra hardware in this child module, leaving the original module untouched. The child module has access to all of the internals of the original (parent) module. This access to internals (via inheritance) is an advantage of this child approach instead of making a simple module to wrap the original module.\n",
    "\n",
    "> Fill in the `MajorityChecker` module below to check the majority functionality. You will need to do two things:\n",
    "> 1. Implement the majority functionality via an alternate mthod. We recommend using the [PopCount](https://javadoc.io/doc/edu.berkeley.cs/chisel3_2.13/latest/chisel3/util/PopCount$.html) functionality after converting the input to a `UInt` (via `.asUInt`).\n",
    "> 2. Write an assertion to check that result (`io.out`) is always equal to your alternate implementation."
   ]
  },
  {
   "cell_type": "code",
   "execution_count": null,
   "id": "317d24e5-a40c-450b-b661-16a5b2b0c39f",
   "metadata": {
    "deletable": false,
    "nbgrader": {
     "cell_type": "code",
     "checksum": "78b1904a909cf6e3ea77629b072053d0",
     "grade": false,
     "grade_id": "cell-b08ee0547c96e0f2",
     "locked": false,
     "schema_version": 3,
     "solution": true,
     "task": false
    },
    "tags": []
   },
   "outputs": [],
   "source": [
    "class MajorityChecker(numInputs: Int) extends Majority(numInputs) {\n",
    "    // YOUR CODE HERE\n",
    "    ???\n",
    "}"
   ]
  },
  {
   "cell_type": "code",
   "execution_count": null,
   "id": "3ae5977f-0285-4651-a995-df96c973cacf",
   "metadata": {
    "deletable": false,
    "editable": false,
    "nbgrader": {
     "cell_type": "code",
     "checksum": "9482539a612b9db3220796d4f003628c",
     "grade": true,
     "grade_id": "cell-6b9cbd5e803e9e8f",
     "locked": true,
     "points": 6,
     "schema_version": 3,
     "solution": false,
     "task": false
    },
    "tags": []
   },
   "outputs": [],
   "source": [
    "for (n <- 3 to 5)\n",
    "    verify(new MajorityChecker(n), Seq(BoundedCheck(1)))"
   ]
  },
  {
   "cell_type": "markdown",
   "id": "reverse-vocabulary",
   "metadata": {
    "deletable": false,
    "editable": false,
    "nbgrader": {
     "cell_type": "markdown",
     "checksum": "7b51c7c1db146dc9e1bc618f6fd3b264",
     "grade": false,
     "grade_id": "prob1-header",
     "locked": true,
     "schema_version": 3,
     "solution": false,
     "task": false
    }
   },
   "source": [
    "## Problem 2 - Bounded Counter (Simple State Machine) (7 points)\n",
    "> In the problem, you will gain familiarity with doing temporal assertions. The `past` function lets you reference the value of a signal on the prior cycle. For example, `x === past(x)` checks if the signal `x` is the same as it was last cycle.\n",
    "\n",
    "> The `BoundedCounter` module below wraps Chisel's Counter generator. Write an assertion to check that it increments. Specifically, check that if in the last cycle `io.enable` was high, the current value of `count` is one larger. _Hint:_ you will need to consider (or exclude) the corner case of wrap-around."
   ]
  },
  {
   "cell_type": "code",
   "execution_count": null,
   "id": "86e875d1",
   "metadata": {
    "deletable": false,
    "nbgrader": {
     "cell_type": "code",
     "checksum": "977cddccd1cafeeee46a892fe5799987",
     "grade": false,
     "grade_id": "prob1",
     "locked": false,
     "schema_version": 3,
     "solution": true,
     "task": false
    },
    "tags": []
   },
   "outputs": [],
   "source": [
    "class BoundedCounter(max: Int) extends Module {\n",
    "    require(max > 0)\n",
    "    val io = IO(new Bundle {\n",
    "        val enable = Input(Bool())\n",
    "        val count = Output(Bool())\n",
    "    })\n",
    "    val (count, wrap) = Counter(io.enable, max)\n",
    "    io.count := count\n",
    "\n",
    "    // YOUR CODE HERE\n",
    "    ???\n",
    "    \n",
    "}"
   ]
  },
  {
   "cell_type": "code",
   "execution_count": null,
   "id": "0e761d10-df45-4fed-83b1-bb199b32cfa6",
   "metadata": {
    "deletable": false,
    "editable": false,
    "nbgrader": {
     "cell_type": "code",
     "checksum": "edf91b5324a2ce51be9b14b6ff3a9fd3",
     "grade": true,
     "grade_id": "cell-7714893891539173",
     "locked": true,
     "points": 7,
     "schema_version": 3,
     "solution": false,
     "task": false
    },
    "tags": []
   },
   "outputs": [],
   "source": [
    "verify(new BoundedCounter(8), Seq(BoundedCheck(10)))"
   ]
  },
  {
   "cell_type": "markdown",
   "id": "86b60017",
   "metadata": {
    "deletable": false,
    "editable": false,
    "nbgrader": {
     "cell_type": "markdown",
     "checksum": "34ca33f3ca442d1a6477ccd53b85c32e",
     "grade": false,
     "grade_id": "prob4-header",
     "locked": true,
     "schema_version": 3,
     "solution": false,
     "task": false
    },
    "slideshow": {
     "slide_type": ""
    },
    "tags": []
   },
   "source": [
    "## Problem 3 - Greatest Common Divisor (Complicated State Machine) (12 points)\n",
    "> The `GCD` module below uses the [Euclidean GCD Algorithm](https://en.wikipedia.org/wiki/Euclidean_algorithm) and is based on code originally from the [chisel-tutorial](https://github.com/ucb-bar/chisel-tutorial)."
   ]
  },
  {
   "cell_type": "code",
   "execution_count": null,
   "id": "6567db08-8424-40fb-9f3e-26cfadcc38b3",
   "metadata": {
    "deletable": false,
    "editable": false,
    "nbgrader": {
     "cell_type": "code",
     "checksum": "173673ac83e2e54167a256da043f55f0",
     "grade": false,
     "grade_id": "cell-c1383ce2e4d5e1fe",
     "locked": true,
     "schema_version": 3,
     "solution": false,
     "task": false
    },
    "tags": []
   },
   "outputs": [],
   "source": [
    "object GCDState extends ChiselEnum {\n",
    "    val empty, running, done = Value\n",
    "}\n",
    "\n",
    "class GCD(w: Int) extends Module {\n",
    "    val io = IO(new Bundle {\n",
    "        val a     = Input(UInt(w.W))\n",
    "        val b     = Input(UInt(w.W))\n",
    "        val load  = Input(Bool())\n",
    "        val out   = Output(UInt(w.W))\n",
    "        val valid = Output(Bool())\n",
    "    })\n",
    "    val x = Reg(UInt())\n",
    "    val y = Reg(UInt())\n",
    "    val state = RegInit(GCDState.empty)\n",
    "\n",
    "    io.valid := state === GCDState.done\n",
    "    when ((state === GCDState.empty) || (state === GCDState.done)) {\n",
    "        when (io.load) {\n",
    "            x := io.a\n",
    "            y := io.b\n",
    "            state := GCDState.running\n",
    "        }\n",
    "    } .elsewhen (state === GCDState.running) {\n",
    "        when (x > y) {\n",
    "            x := x - y\n",
    "        } .elsewhen (x <= y) {\n",
    "            y := y - x\n",
    "        }\n",
    "        when (y === 0.U) {\n",
    "            state := GCDState.done\n",
    "            io.valid := true.B\n",
    "        }\n",
    "    }\n",
    "    printf(p\"in: ${io.a} ${io.b} load: ${io.load}, reg: $x $y, state: $state\\n\")\n",
    "    io.out := x\n",
    "}"
   ]
  },
  {
   "cell_type": "markdown",
   "id": "042229c2-caf9-492f-9744-b5c30b222f50",
   "metadata": {
    "deletable": false,
    "editable": false,
    "nbgrader": {
     "cell_type": "markdown",
     "checksum": "28b3277a7c314fc67f0eb1733f749315",
     "grade": false,
     "grade_id": "cell-60a2ed2c38927c1d",
     "locked": true,
     "schema_version": 3,
     "solution": false,
     "task": false
    },
    "tags": []
   },
   "source": [
    ">You will verify the GCD module by adding assertions to the `GCDChecker` module (which inherits from GCD). We have added some assumptions to remove uninteresting corner cases. Add assertions to check the following:\n",
    ">1. The final result is a factor of both inputs. In other words, the result when GCD terminates divides both inputs without producing a remainder.\n",
    ">2. While the GCD module is executing (in the `running` state), at least one of the register values (`x` or `y`) decreases."
   ]
  },
  {
   "cell_type": "code",
   "execution_count": null,
   "id": "3a513b9a-c1e3-494a-b74f-492dd3f6f3a2",
   "metadata": {
    "deletable": false,
    "nbgrader": {
     "cell_type": "code",
     "checksum": "627dd80b52ec628711e2589b47daae9a",
     "grade": false,
     "grade_id": "cell-b01d3c5b318b9c47",
     "locked": false,
     "schema_version": 3,
     "solution": true,
     "task": false
    },
    "tags": []
   },
   "outputs": [],
   "source": [
    "class GCDChecker(w: Int) extends GCD(w) {\n",
    "    // Assume inputs are non-zero and stable\n",
    "    assume(io.a =/= 0.U)\n",
    "    assume(io.b =/= 0.U)\n",
    "    assume(io.a === past(io.a))\n",
    "    assume(io.b === past(io.b))\n",
    "\n",
    "    // #1 - Does the final result divide both inputs?\n",
    "    // YOUR CODE HERE\n",
    "    ???\n",
    "\n",
    "    // #2 - Makes forward progress (x or y decreases every cycle when running)\n",
    "    // YOUR CODE HERE\n",
    "    ???\n",
    "}"
   ]
  },
  {
   "cell_type": "code",
   "execution_count": null,
   "id": "92a04690-6401-42a1-bc50-6eb5e0cd1e6a",
   "metadata": {
    "deletable": false,
    "editable": false,
    "nbgrader": {
     "cell_type": "code",
     "checksum": "44f27afb0c6bbac61a12dc4ceb5ede3c",
     "grade": true,
     "grade_id": "cell-9bda98aca308757b",
     "locked": true,
     "points": 12,
     "schema_version": 3,
     "solution": false,
     "task": false
    },
    "slideshow": {
     "slide_type": ""
    },
    "tags": []
   },
   "outputs": [],
   "source": [
    "verify(new GCDChecker(3), Seq(BoundedCheck(10)))"
   ]
  }
 ],
 "metadata": {
  "kernelspec": {
   "display_name": "Scala",
   "language": "scala",
   "name": "scala"
  },
  "language_info": {
   "codemirror_mode": "text/x-scala",
   "file_extension": ".sc",
   "mimetype": "text/x-scala",
   "name": "scala",
   "nbconvert_exporter": "script",
   "version": "2.13.14"
  }
 },
 "nbformat": 4,
 "nbformat_minor": 5
}
